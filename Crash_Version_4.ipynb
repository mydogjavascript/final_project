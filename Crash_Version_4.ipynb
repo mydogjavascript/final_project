{
 "cells": [
  {
   "cell_type": "markdown",
   "metadata": {},
   "source": [
    "### Import Dependencies for Machine Learning"
   ]
  },
  {
   "cell_type": "code",
   "execution_count": 1,
   "metadata": {},
   "outputs": [],
   "source": [
    "import warnings\n",
    "warnings.filterwarnings('ignore')\n",
    "\n",
    "import pandas as pd\n",
    "\n",
    "from sklearn.tree import DecisionTreeClassifier\n",
    "from sklearn.model_selection import train_test_split\n",
    "from sklearn.linear_model import LogisticRegression\n",
    "from sklearn.preprocessing import LabelEncoder\n",
    "from sklearn.metrics import balanced_accuracy_score\n",
    "from sklearn.metrics import confusion_matrix\n",
    "\n",
    "from imblearn.ensemble import BalancedRandomForestClassifier\n",
    "from imblearn.metrics import classification_report_imbalanced\n",
    "from imblearn.ensemble import EasyEnsembleClassifier\n",
    "from imblearn.over_sampling import RandomOverSampler\n",
    "from imblearn.over_sampling import SMOTE\n",
    "from imblearn.under_sampling import ClusterCentroids\n",
    "from imblearn.combine import SMOTEENN"
   ]
  },
  {
   "cell_type": "markdown",
   "metadata": {},
   "source": [
    "### Import Initial Dataset"
   ]
  },
  {
   "cell_type": "code",
   "execution_count": 2,
   "metadata": {
    "scrolled": false
   },
   "outputs": [
    {
     "data": {
      "text/html": [
       "<div>\n",
       "<style scoped>\n",
       "    .dataframe tbody tr th:only-of-type {\n",
       "        vertical-align: middle;\n",
       "    }\n",
       "\n",
       "    .dataframe tbody tr th {\n",
       "        vertical-align: top;\n",
       "    }\n",
       "\n",
       "    .dataframe thead th {\n",
       "        text-align: right;\n",
       "    }\n",
       "</style>\n",
       "<table border=\"1\" class=\"dataframe\">\n",
       "  <thead>\n",
       "    <tr style=\"text-align: right;\">\n",
       "      <th></th>\n",
       "      <th>dvcat</th>\n",
       "      <th>weight</th>\n",
       "      <th>dead</th>\n",
       "      <th>airbag</th>\n",
       "      <th>seatbelt</th>\n",
       "      <th>frontal</th>\n",
       "      <th>sex</th>\n",
       "      <th>ageOFocc</th>\n",
       "      <th>yearacc</th>\n",
       "      <th>yearVeh</th>\n",
       "      <th>abcat</th>\n",
       "      <th>occRole</th>\n",
       "      <th>deploy</th>\n",
       "      <th>injSeverity</th>\n",
       "      <th>caseid</th>\n",
       "    </tr>\n",
       "  </thead>\n",
       "  <tbody>\n",
       "    <tr>\n",
       "      <th>1</th>\n",
       "      <td>25-39</td>\n",
       "      <td>25.069</td>\n",
       "      <td>alive</td>\n",
       "      <td>none</td>\n",
       "      <td>belted</td>\n",
       "      <td>1</td>\n",
       "      <td>f</td>\n",
       "      <td>26</td>\n",
       "      <td>1997</td>\n",
       "      <td>1990.0</td>\n",
       "      <td>unavail</td>\n",
       "      <td>driver</td>\n",
       "      <td>0</td>\n",
       "      <td>3.0</td>\n",
       "      <td>2:3:1</td>\n",
       "    </tr>\n",
       "    <tr>\n",
       "      <th>2</th>\n",
       "      <td>10-24</td>\n",
       "      <td>25.069</td>\n",
       "      <td>alive</td>\n",
       "      <td>airbag</td>\n",
       "      <td>belted</td>\n",
       "      <td>1</td>\n",
       "      <td>f</td>\n",
       "      <td>72</td>\n",
       "      <td>1997</td>\n",
       "      <td>1995.0</td>\n",
       "      <td>deploy</td>\n",
       "      <td>driver</td>\n",
       "      <td>1</td>\n",
       "      <td>1.0</td>\n",
       "      <td>2:3:2</td>\n",
       "    </tr>\n",
       "    <tr>\n",
       "      <th>3</th>\n",
       "      <td>10-24</td>\n",
       "      <td>32.379</td>\n",
       "      <td>alive</td>\n",
       "      <td>none</td>\n",
       "      <td>none</td>\n",
       "      <td>1</td>\n",
       "      <td>f</td>\n",
       "      <td>69</td>\n",
       "      <td>1997</td>\n",
       "      <td>1988.0</td>\n",
       "      <td>unavail</td>\n",
       "      <td>driver</td>\n",
       "      <td>0</td>\n",
       "      <td>4.0</td>\n",
       "      <td>2:5:1</td>\n",
       "    </tr>\n",
       "    <tr>\n",
       "      <th>4</th>\n",
       "      <td>25-39</td>\n",
       "      <td>495.444</td>\n",
       "      <td>alive</td>\n",
       "      <td>airbag</td>\n",
       "      <td>belted</td>\n",
       "      <td>1</td>\n",
       "      <td>f</td>\n",
       "      <td>53</td>\n",
       "      <td>1997</td>\n",
       "      <td>1995.0</td>\n",
       "      <td>deploy</td>\n",
       "      <td>driver</td>\n",
       "      <td>1</td>\n",
       "      <td>1.0</td>\n",
       "      <td>2:10:1</td>\n",
       "    </tr>\n",
       "    <tr>\n",
       "      <th>5</th>\n",
       "      <td>25-39</td>\n",
       "      <td>25.069</td>\n",
       "      <td>alive</td>\n",
       "      <td>none</td>\n",
       "      <td>belted</td>\n",
       "      <td>1</td>\n",
       "      <td>f</td>\n",
       "      <td>32</td>\n",
       "      <td>1997</td>\n",
       "      <td>1988.0</td>\n",
       "      <td>unavail</td>\n",
       "      <td>driver</td>\n",
       "      <td>0</td>\n",
       "      <td>3.0</td>\n",
       "      <td>2:11:1</td>\n",
       "    </tr>\n",
       "  </tbody>\n",
       "</table>\n",
       "</div>"
      ],
      "text/plain": [
       "   dvcat   weight   dead  airbag seatbelt  frontal sex  ageOFocc  yearacc  \\\n",
       "1  25-39   25.069  alive    none   belted        1   f        26     1997   \n",
       "2  10-24   25.069  alive  airbag   belted        1   f        72     1997   \n",
       "3  10-24   32.379  alive    none     none        1   f        69     1997   \n",
       "4  25-39  495.444  alive  airbag   belted        1   f        53     1997   \n",
       "5  25-39   25.069  alive    none   belted        1   f        32     1997   \n",
       "\n",
       "   yearVeh    abcat occRole  deploy  injSeverity  caseid  \n",
       "1   1990.0  unavail  driver       0          3.0   2:3:1  \n",
       "2   1995.0   deploy  driver       1          1.0   2:3:2  \n",
       "3   1988.0  unavail  driver       0          4.0   2:5:1  \n",
       "4   1995.0   deploy  driver       1          1.0  2:10:1  \n",
       "5   1988.0  unavail  driver       0          3.0  2:11:1  "
      ]
     },
     "execution_count": 2,
     "metadata": {},
     "output_type": "execute_result"
    }
   ],
   "source": [
    "# Import the dataset from Google Drive:\n",
    "url = ('https://drive.google.com/file/d/1t3Z8Blgy2BPmBB4FqrQkC_jie9IwYuQb/view?usp=sharing')\n",
    "path = 'https://drive.google.com/uc?export=download&id='+url.split('/')[-2]\n",
    "crash_1 = pd.read_csv(path,index_col=0)\n",
    "crash_1.head()"
   ]
  },
  {
   "cell_type": "markdown",
   "metadata": {},
   "source": [
    "### Perform Data Cleaning"
   ]
  },
  {
   "cell_type": "code",
   "execution_count": 3,
   "metadata": {
    "scrolled": true
   },
   "outputs": [
    {
     "data": {
      "text/html": [
       "<div>\n",
       "<style scoped>\n",
       "    .dataframe tbody tr th:only-of-type {\n",
       "        vertical-align: middle;\n",
       "    }\n",
       "\n",
       "    .dataframe tbody tr th {\n",
       "        vertical-align: top;\n",
       "    }\n",
       "\n",
       "    .dataframe thead th {\n",
       "        text-align: right;\n",
       "    }\n",
       "</style>\n",
       "<table border=\"1\" class=\"dataframe\">\n",
       "  <thead>\n",
       "    <tr style=\"text-align: right;\">\n",
       "      <th></th>\n",
       "      <th>est_impact_kmh</th>\n",
       "      <th>ultimate_outcome</th>\n",
       "      <th>seatbelt</th>\n",
       "      <th>front_impact</th>\n",
       "      <th>sex</th>\n",
       "      <th>occupant_age</th>\n",
       "      <th>vehicle_year</th>\n",
       "      <th>airbag_deployment</th>\n",
       "      <th>occupant_role</th>\n",
       "      <th>injury_severity</th>\n",
       "    </tr>\n",
       "  </thead>\n",
       "  <tbody>\n",
       "    <tr>\n",
       "      <th>1</th>\n",
       "      <td>25-39</td>\n",
       "      <td>alive</td>\n",
       "      <td>belted</td>\n",
       "      <td>1</td>\n",
       "      <td>f</td>\n",
       "      <td>26</td>\n",
       "      <td>1990.0</td>\n",
       "      <td>unavail</td>\n",
       "      <td>driver</td>\n",
       "      <td>3.0</td>\n",
       "    </tr>\n",
       "    <tr>\n",
       "      <th>2</th>\n",
       "      <td>10-24</td>\n",
       "      <td>alive</td>\n",
       "      <td>belted</td>\n",
       "      <td>1</td>\n",
       "      <td>f</td>\n",
       "      <td>72</td>\n",
       "      <td>1995.0</td>\n",
       "      <td>deploy</td>\n",
       "      <td>driver</td>\n",
       "      <td>1.0</td>\n",
       "    </tr>\n",
       "    <tr>\n",
       "      <th>3</th>\n",
       "      <td>10-24</td>\n",
       "      <td>alive</td>\n",
       "      <td>none</td>\n",
       "      <td>1</td>\n",
       "      <td>f</td>\n",
       "      <td>69</td>\n",
       "      <td>1988.0</td>\n",
       "      <td>unavail</td>\n",
       "      <td>driver</td>\n",
       "      <td>4.0</td>\n",
       "    </tr>\n",
       "    <tr>\n",
       "      <th>4</th>\n",
       "      <td>25-39</td>\n",
       "      <td>alive</td>\n",
       "      <td>belted</td>\n",
       "      <td>1</td>\n",
       "      <td>f</td>\n",
       "      <td>53</td>\n",
       "      <td>1995.0</td>\n",
       "      <td>deploy</td>\n",
       "      <td>driver</td>\n",
       "      <td>1.0</td>\n",
       "    </tr>\n",
       "    <tr>\n",
       "      <th>5</th>\n",
       "      <td>25-39</td>\n",
       "      <td>alive</td>\n",
       "      <td>belted</td>\n",
       "      <td>1</td>\n",
       "      <td>f</td>\n",
       "      <td>32</td>\n",
       "      <td>1988.0</td>\n",
       "      <td>unavail</td>\n",
       "      <td>driver</td>\n",
       "      <td>3.0</td>\n",
       "    </tr>\n",
       "  </tbody>\n",
       "</table>\n",
       "</div>"
      ],
      "text/plain": [
       "  est_impact_kmh ultimate_outcome seatbelt  front_impact sex  occupant_age  \\\n",
       "1          25-39            alive   belted             1   f            26   \n",
       "2          10-24            alive   belted             1   f            72   \n",
       "3          10-24            alive     none             1   f            69   \n",
       "4          25-39            alive   belted             1   f            53   \n",
       "5          25-39            alive   belted             1   f            32   \n",
       "\n",
       "   vehicle_year airbag_deployment occupant_role  injury_severity  \n",
       "1        1990.0           unavail        driver              3.0  \n",
       "2        1995.0            deploy        driver              1.0  \n",
       "3        1988.0           unavail        driver              4.0  \n",
       "4        1995.0            deploy        driver              1.0  \n",
       "5        1988.0           unavail        driver              3.0  "
      ]
     },
     "execution_count": 3,
     "metadata": {},
     "output_type": "execute_result"
    }
   ],
   "source": [
    "# Remove columns not needed for this analysis:\n",
    "\n",
    "# 'weight': Value of unknown significance or origin\n",
    "# 'yearacc': Year the accident occurred from 1997-2002\n",
    "# 'caseid': Not individual accident identifiers, numerous indicents assigned to single id's\n",
    "# 'airbag' & 'deploy': Values are duplicated in the 'abcat' column\n",
    "\n",
    "crash_2 = crash_1.drop(['weight','yearacc','caseid','airbag','deploy'], axis=1)\n",
    "\n",
    "# Rename the column titles for better clarity:\n",
    "crash_2.rename(columns={'dvcat':'est_impact_kmh',\n",
    "                        'dead':'ultimate_outcome',\n",
    "                        'airbag':'airbag_available',\n",
    "                        'frontal':'front_impact',\n",
    "                        'ageOFocc':'occupant_age',\n",
    "                        'yearacc':'accident_year',\n",
    "                        'yearVeh':'vehicle_year',\n",
    "                        'abcat':'airbag_deployment',\n",
    "                        'occRole':'occupant_role',\n",
    "                        'injSeverity':'injury_severity'},inplace=True)\n",
    "\n",
    "crash_2.head()"
   ]
  },
  {
   "cell_type": "code",
   "execution_count": 4,
   "metadata": {},
   "outputs": [
    {
     "name": "stdout",
     "output_type": "stream",
     "text": [
      "Column est_impact_kmh has 0    null values\n",
      "Column ultimate_outcome has 0    null values\n",
      "Column seatbelt has 0    null values\n",
      "Column front_impact has 0    null values\n",
      "Column sex has 0    null values\n",
      "Column occupant_age has 0    null values\n",
      "Column vehicle_year has 0    null values\n",
      "Column airbag_deployment has 0    null values\n",
      "Column occupant_role has 0    null values\n",
      "Column injury_severity has 0    null values\n"
     ]
    }
   ],
   "source": [
    "# Drop the all rows with null values:\n",
    "crash_3 = crash_2.dropna()\n",
    "for column in crash_3.columns:\n",
    "    print(f'Column {column} has {crash_3[column].isnull().sum()}\\\n",
    "    null values')"
   ]
  },
  {
   "cell_type": "code",
   "execution_count": 5,
   "metadata": {
    "scrolled": true
   },
   "outputs": [
    {
     "data": {
      "text/html": [
       "<div>\n",
       "<style scoped>\n",
       "    .dataframe tbody tr th:only-of-type {\n",
       "        vertical-align: middle;\n",
       "    }\n",
       "\n",
       "    .dataframe tbody tr th {\n",
       "        vertical-align: top;\n",
       "    }\n",
       "\n",
       "    .dataframe thead th {\n",
       "        text-align: right;\n",
       "    }\n",
       "</style>\n",
       "<table border=\"1\" class=\"dataframe\">\n",
       "  <thead>\n",
       "    <tr style=\"text-align: right;\">\n",
       "      <th></th>\n",
       "      <th>est_impact_kmh</th>\n",
       "      <th>ultimate_outcome</th>\n",
       "      <th>seatbelt</th>\n",
       "      <th>front_impact</th>\n",
       "      <th>sex</th>\n",
       "      <th>occupant_age</th>\n",
       "      <th>vehicle_year</th>\n",
       "      <th>airbag_deployment</th>\n",
       "      <th>occupant_role</th>\n",
       "      <th>injury_severity</th>\n",
       "    </tr>\n",
       "    <tr>\n",
       "      <th>index</th>\n",
       "      <th></th>\n",
       "      <th></th>\n",
       "      <th></th>\n",
       "      <th></th>\n",
       "      <th></th>\n",
       "      <th></th>\n",
       "      <th></th>\n",
       "      <th></th>\n",
       "      <th></th>\n",
       "      <th></th>\n",
       "    </tr>\n",
       "  </thead>\n",
       "  <tbody>\n",
       "    <tr>\n",
       "      <th>1</th>\n",
       "      <td>25-39</td>\n",
       "      <td>alive</td>\n",
       "      <td>belted</td>\n",
       "      <td>yes</td>\n",
       "      <td>f</td>\n",
       "      <td>26</td>\n",
       "      <td>1990.0</td>\n",
       "      <td>unavail</td>\n",
       "      <td>driver</td>\n",
       "      <td>3.0</td>\n",
       "    </tr>\n",
       "    <tr>\n",
       "      <th>2</th>\n",
       "      <td>10-24</td>\n",
       "      <td>alive</td>\n",
       "      <td>belted</td>\n",
       "      <td>yes</td>\n",
       "      <td>f</td>\n",
       "      <td>72</td>\n",
       "      <td>1995.0</td>\n",
       "      <td>deploy</td>\n",
       "      <td>driver</td>\n",
       "      <td>1.0</td>\n",
       "    </tr>\n",
       "    <tr>\n",
       "      <th>3</th>\n",
       "      <td>10-24</td>\n",
       "      <td>alive</td>\n",
       "      <td>not_belted</td>\n",
       "      <td>yes</td>\n",
       "      <td>f</td>\n",
       "      <td>69</td>\n",
       "      <td>1988.0</td>\n",
       "      <td>unavail</td>\n",
       "      <td>driver</td>\n",
       "      <td>4.0</td>\n",
       "    </tr>\n",
       "    <tr>\n",
       "      <th>4</th>\n",
       "      <td>25-39</td>\n",
       "      <td>alive</td>\n",
       "      <td>belted</td>\n",
       "      <td>yes</td>\n",
       "      <td>f</td>\n",
       "      <td>53</td>\n",
       "      <td>1995.0</td>\n",
       "      <td>deploy</td>\n",
       "      <td>driver</td>\n",
       "      <td>1.0</td>\n",
       "    </tr>\n",
       "    <tr>\n",
       "      <th>5</th>\n",
       "      <td>25-39</td>\n",
       "      <td>alive</td>\n",
       "      <td>belted</td>\n",
       "      <td>yes</td>\n",
       "      <td>f</td>\n",
       "      <td>32</td>\n",
       "      <td>1988.0</td>\n",
       "      <td>unavail</td>\n",
       "      <td>driver</td>\n",
       "      <td>3.0</td>\n",
       "    </tr>\n",
       "  </tbody>\n",
       "</table>\n",
       "</div>"
      ],
      "text/plain": [
       "      est_impact_kmh ultimate_outcome    seatbelt front_impact sex  \\\n",
       "index                                                                \n",
       "1              25-39            alive      belted          yes   f   \n",
       "2              10-24            alive      belted          yes   f   \n",
       "3              10-24            alive  not_belted          yes   f   \n",
       "4              25-39            alive      belted          yes   f   \n",
       "5              25-39            alive      belted          yes   f   \n",
       "\n",
       "       occupant_age  vehicle_year airbag_deployment occupant_role  \\\n",
       "index                                                               \n",
       "1                26        1990.0           unavail        driver   \n",
       "2                72        1995.0            deploy        driver   \n",
       "3                69        1988.0           unavail        driver   \n",
       "4                53        1995.0            deploy        driver   \n",
       "5                32        1988.0           unavail        driver   \n",
       "\n",
       "       injury_severity  \n",
       "index                   \n",
       "1                  3.0  \n",
       "2                  1.0  \n",
       "3                  4.0  \n",
       "4                  1.0  \n",
       "5                  3.0  "
      ]
     },
     "execution_count": 5,
     "metadata": {},
     "output_type": "execute_result"
    }
   ],
   "source": [
    "# Rename values:\n",
    "crash_3['est_impact_kmh'] = crash_3['est_impact_kmh'].replace({'1-9km/h':'1-9'})\n",
    "crash_3['seatbelt'] = crash_3['seatbelt'].replace({'none':'not_belted'})\n",
    "crash_3['front_impact'] = crash_3['front_impact'].replace({1:'yes',0:'no'})\n",
    "crash_3[crash_3['injury_severity'] < 5.0]\n",
    "crash_3.index.name = 'index'\n",
    "crash_3.head()"
   ]
  },
  {
   "cell_type": "code",
   "execution_count": 6,
   "metadata": {},
   "outputs": [],
   "source": [
    "# Rename the database that has been cleaned:\n",
    "crash_cleaned = crash_3"
   ]
  },
  {
   "cell_type": "markdown",
   "metadata": {},
   "source": [
    "### Export Cleaned Data to SQLite Database"
   ]
  },
  {
   "cell_type": "code",
   "execution_count": 7,
   "metadata": {},
   "outputs": [],
   "source": [
    "import sqlite3 as sq\n",
    "crash_cleaned_copy = crash_cleaned.copy()\n",
    "\n",
    "# Export the accidents data:\n",
    "accidents_data = crash_cleaned\n",
    "accidents_data = crash_cleaned.drop(['ultimate_outcome','sex','occupant_age','occupant_role','injury_severity'], axis=1)\n",
    "\n",
    "# Export the occupants data:\n",
    "occupants_data = crash_cleaned\n",
    "occupants_data = crash_cleaned.drop(['est_impact_kmh','front_impact','vehicle_year','seatbelt','airbag_deployment'], axis=1)\n",
    "\n",
    "sql_data = 'crash2.sqlite'\n"
   ]
  },
  {
   "cell_type": "code",
   "execution_count": 8,
   "metadata": {},
   "outputs": [],
   "source": [
    "# Create connection & push the data:\n",
    "\n",
    "conn = sq.connect(sql_data)\n",
    "cur = conn.cursor()\n",
    "\n",
    "cur.executescript('''\n",
    "DROP TABLE IF EXISTS \"ACCIDENTS\";\n",
    "CREATE TABLE \"ACCIDENTS\" (\n",
    "\t\"index\" INTEGER PRIMARY KEY AUTOINCREMENT,\n",
    "\t\"est_impact_kmh\" TEXT NOT NULL,\n",
    "\t\"front_impact\" TEXT NOT NULL,\n",
    "\t\"vehicle_year\" INTEGER NOT NULL,\n",
    "\t\"seatbelt\" TEXT NOT NULL,\n",
    "\t\"airbag_deployment\" TEXT NOT NULL\n",
    ");\n",
    "\n",
    "DROP TABLE IF EXISTS \"OCCUPANTS\";\n",
    "CREATE TABLE \"OCCUPANTS\" (\n",
    "\t\"index\" INTEGER PRIMARY KEY AUTOINCREMENT,\n",
    "\t\"ultimate_outcome\" TEXT NOT NULL,\n",
    "\t\"sex\" INTEGER NOT NULL,\n",
    "\t\"occupant_age\" TEXT NOT NULL,\n",
    "\t\"occupant_role\" TEXT NOT NULL,\n",
    "\t\"injury_severity\" INTEGER NOT NULL\n",
    ");\n",
    "\n",
    "''')\n",
    "#conn.commit()\n",
    "accidents_data.to_sql(\"ACCIDENTS\", conn, if_exists='append', index=True)\n",
    "#conn.commit()\n",
    "occupants_data.to_sql(\"OCCUPANTS\", conn, if_exists='append', index=True)\n",
    "\n",
    "conn.commit()\n",
    "conn.close()"
   ]
  },
  {
   "cell_type": "markdown",
   "metadata": {},
   "source": [
    "### Reflect the Tables into SQLAlchemy ORM"
   ]
  },
  {
   "cell_type": "code",
   "execution_count": 9,
   "metadata": {},
   "outputs": [],
   "source": [
    "# Python SQL toolkit and Object Relational Mapper\n",
    "import sqlalchemy\n",
    "from sqlalchemy.ext.automap import automap_base\n",
    "from sqlalchemy.orm import Session\n",
    "from sqlalchemy import create_engine, func"
   ]
  },
  {
   "cell_type": "code",
   "execution_count": 10,
   "metadata": {},
   "outputs": [],
   "source": [
    "engine = create_engine(\"sqlite:///crash2.sqlite\")"
   ]
  },
  {
   "cell_type": "code",
   "execution_count": 11,
   "metadata": {},
   "outputs": [],
   "source": [
    "# Reflect an existing database into a new model:\n",
    "Base = automap_base()\n",
    "\n",
    "# Reflect the tables:\n",
    "Base.prepare(engine, reflect=True)"
   ]
  },
  {
   "cell_type": "code",
   "execution_count": 12,
   "metadata": {},
   "outputs": [
    {
     "data": {
      "text/plain": [
       "['ACCIDENTS', 'CRASH_COMBINED2', 'OCCUPANTS']"
      ]
     },
     "execution_count": 12,
     "metadata": {},
     "output_type": "execute_result"
    }
   ],
   "source": [
    "# All of the classes that automap found:\n",
    "Base.classes.keys()"
   ]
  },
  {
   "cell_type": "code",
   "execution_count": 13,
   "metadata": {},
   "outputs": [],
   "source": [
    "# Save reference to the combined table:\n",
    "Crash = Base.classes.CRASH_COMBINED2"
   ]
  },
  {
   "cell_type": "code",
   "execution_count": 14,
   "metadata": {},
   "outputs": [],
   "source": [
    "# Create our session (link) from Python to the DB:\n",
    "session = Session(engine)"
   ]
  },
  {
   "cell_type": "markdown",
   "metadata": {},
   "source": [
    "### Import the Combined Databases Back to Python"
   ]
  },
  {
   "cell_type": "code",
   "execution_count": 15,
   "metadata": {},
   "outputs": [
    {
     "data": {
      "text/html": [
       "<div>\n",
       "<style scoped>\n",
       "    .dataframe tbody tr th:only-of-type {\n",
       "        vertical-align: middle;\n",
       "    }\n",
       "\n",
       "    .dataframe tbody tr th {\n",
       "        vertical-align: top;\n",
       "    }\n",
       "\n",
       "    .dataframe thead th {\n",
       "        text-align: right;\n",
       "    }\n",
       "</style>\n",
       "<table border=\"1\" class=\"dataframe\">\n",
       "  <thead>\n",
       "    <tr style=\"text-align: right;\">\n",
       "      <th></th>\n",
       "      <th>occupant_role</th>\n",
       "      <th>sex</th>\n",
       "      <th>occupant_age</th>\n",
       "      <th>ultimate_outcome</th>\n",
       "      <th>injury_severity</th>\n",
       "      <th>seatbelt</th>\n",
       "      <th>est_impact_kmh</th>\n",
       "      <th>airbag_deployment</th>\n",
       "      <th>vehicle_year</th>\n",
       "      <th>front_impact</th>\n",
       "    </tr>\n",
       "  </thead>\n",
       "  <tbody>\n",
       "    <tr>\n",
       "      <th>0</th>\n",
       "      <td>driver</td>\n",
       "      <td>f</td>\n",
       "      <td>26</td>\n",
       "      <td>alive</td>\n",
       "      <td>3.0</td>\n",
       "      <td>belted</td>\n",
       "      <td>25-39</td>\n",
       "      <td>unavail</td>\n",
       "      <td>1990</td>\n",
       "      <td>yes</td>\n",
       "    </tr>\n",
       "    <tr>\n",
       "      <th>1</th>\n",
       "      <td>driver</td>\n",
       "      <td>f</td>\n",
       "      <td>72</td>\n",
       "      <td>alive</td>\n",
       "      <td>1.0</td>\n",
       "      <td>belted</td>\n",
       "      <td>10-24</td>\n",
       "      <td>deploy</td>\n",
       "      <td>1995</td>\n",
       "      <td>yes</td>\n",
       "    </tr>\n",
       "    <tr>\n",
       "      <th>2</th>\n",
       "      <td>driver</td>\n",
       "      <td>f</td>\n",
       "      <td>69</td>\n",
       "      <td>alive</td>\n",
       "      <td>4.0</td>\n",
       "      <td>not_belted</td>\n",
       "      <td>10-24</td>\n",
       "      <td>unavail</td>\n",
       "      <td>1988</td>\n",
       "      <td>yes</td>\n",
       "    </tr>\n",
       "    <tr>\n",
       "      <th>3</th>\n",
       "      <td>driver</td>\n",
       "      <td>f</td>\n",
       "      <td>53</td>\n",
       "      <td>alive</td>\n",
       "      <td>1.0</td>\n",
       "      <td>belted</td>\n",
       "      <td>25-39</td>\n",
       "      <td>deploy</td>\n",
       "      <td>1995</td>\n",
       "      <td>yes</td>\n",
       "    </tr>\n",
       "    <tr>\n",
       "      <th>4</th>\n",
       "      <td>driver</td>\n",
       "      <td>f</td>\n",
       "      <td>32</td>\n",
       "      <td>alive</td>\n",
       "      <td>3.0</td>\n",
       "      <td>belted</td>\n",
       "      <td>25-39</td>\n",
       "      <td>unavail</td>\n",
       "      <td>1988</td>\n",
       "      <td>yes</td>\n",
       "    </tr>\n",
       "  </tbody>\n",
       "</table>\n",
       "</div>"
      ],
      "text/plain": [
       "  occupant_role sex  occupant_age ultimate_outcome  injury_severity  \\\n",
       "0        driver   f            26            alive              3.0   \n",
       "1        driver   f            72            alive              1.0   \n",
       "2        driver   f            69            alive              4.0   \n",
       "3        driver   f            53            alive              1.0   \n",
       "4        driver   f            32            alive              3.0   \n",
       "\n",
       "     seatbelt est_impact_kmh airbag_deployment vehicle_year front_impact  \n",
       "0      belted          25-39           unavail         1990          yes  \n",
       "1      belted          10-24            deploy         1995          yes  \n",
       "2  not_belted          10-24           unavail         1988          yes  \n",
       "3      belted          25-39            deploy         1995          yes  \n",
       "4      belted          25-39           unavail         1988          yes  "
      ]
     },
     "execution_count": 15,
     "metadata": {},
     "output_type": "execute_result"
    }
   ],
   "source": [
    "# Perform a query to retrieve the data from the CRASH_COMBINED2 table:\n",
    "results = []\n",
    "results = session.query(Crash.occupant_role,\n",
    "                        Crash.sex,\n",
    "                        Crash.occupant_age,\n",
    "                        Crash.ultimate_outcome,\n",
    "                        Crash.injury_severity,\n",
    "                        Crash.vehicle_year,\n",
    "                        Crash.est_impact_kmh,\n",
    "                        Crash.airbag_deployment,\n",
    "                        Crash.front_impact,\n",
    "                        Crash.seatbelt).all()\n",
    "\n",
    "# Save the query results as a Pandas DataFrame\n",
    "crash_4 = pd.DataFrame(results, columns=['occupant_role',\n",
    "                                         'sex',\n",
    "                                         'occupant_age',\n",
    "                                         'ultimate_outcome',\n",
    "                                         'injury_severity',\n",
    "                                         'seatbelt',\n",
    "                                         'est_impact_kmh',\n",
    "                                         'airbag_deployment',\n",
    "                                         'vehicle_year',\n",
    "                                         'front_impact',])\n",
    "crash_4.head()\n"
   ]
  },
  {
   "cell_type": "code",
   "execution_count": 51,
   "metadata": {},
   "outputs": [
    {
     "data": {
      "text/plain": [
       "alive    24883\n",
       "dead      1180\n",
       "Name: ultimate_outcome, dtype: int64"
      ]
     },
     "execution_count": 51,
     "metadata": {},
     "output_type": "execute_result"
    }
   ],
   "source": [
    "ultimate_outcome = crash_4.ultimate_outcome.value_counts()\n",
    "ultimate_outcome"
   ]
  },
  {
   "cell_type": "markdown",
   "metadata": {},
   "source": [
    "### Conduct Integer Encoding to Transform Text to Numbers"
   ]
  },
  {
   "cell_type": "code",
   "execution_count": 19,
   "metadata": {},
   "outputs": [
    {
     "data": {
      "text/html": [
       "<div>\n",
       "<style scoped>\n",
       "    .dataframe tbody tr th:only-of-type {\n",
       "        vertical-align: middle;\n",
       "    }\n",
       "\n",
       "    .dataframe tbody tr th {\n",
       "        vertical-align: top;\n",
       "    }\n",
       "\n",
       "    .dataframe thead th {\n",
       "        text-align: right;\n",
       "    }\n",
       "</style>\n",
       "<table border=\"1\" class=\"dataframe\">\n",
       "  <thead>\n",
       "    <tr style=\"text-align: right;\">\n",
       "      <th></th>\n",
       "      <th>occupant_role</th>\n",
       "      <th>sex</th>\n",
       "      <th>occupant_age</th>\n",
       "      <th>ultimate_outcome</th>\n",
       "      <th>injury_severity</th>\n",
       "      <th>seatbelt</th>\n",
       "      <th>est_impact_kmh</th>\n",
       "      <th>airbag_deployment</th>\n",
       "      <th>vehicle_year</th>\n",
       "      <th>front_impact</th>\n",
       "    </tr>\n",
       "  </thead>\n",
       "  <tbody>\n",
       "    <tr>\n",
       "      <th>0</th>\n",
       "      <td>0</td>\n",
       "      <td>0</td>\n",
       "      <td>26</td>\n",
       "      <td>0</td>\n",
       "      <td>3.0</td>\n",
       "      <td>0</td>\n",
       "      <td>2</td>\n",
       "      <td>2</td>\n",
       "      <td>1990</td>\n",
       "      <td>1</td>\n",
       "    </tr>\n",
       "    <tr>\n",
       "      <th>1</th>\n",
       "      <td>0</td>\n",
       "      <td>0</td>\n",
       "      <td>72</td>\n",
       "      <td>0</td>\n",
       "      <td>1.0</td>\n",
       "      <td>0</td>\n",
       "      <td>1</td>\n",
       "      <td>0</td>\n",
       "      <td>1995</td>\n",
       "      <td>1</td>\n",
       "    </tr>\n",
       "    <tr>\n",
       "      <th>2</th>\n",
       "      <td>0</td>\n",
       "      <td>0</td>\n",
       "      <td>69</td>\n",
       "      <td>0</td>\n",
       "      <td>4.0</td>\n",
       "      <td>1</td>\n",
       "      <td>1</td>\n",
       "      <td>2</td>\n",
       "      <td>1988</td>\n",
       "      <td>1</td>\n",
       "    </tr>\n",
       "    <tr>\n",
       "      <th>3</th>\n",
       "      <td>0</td>\n",
       "      <td>0</td>\n",
       "      <td>53</td>\n",
       "      <td>0</td>\n",
       "      <td>1.0</td>\n",
       "      <td>0</td>\n",
       "      <td>2</td>\n",
       "      <td>0</td>\n",
       "      <td>1995</td>\n",
       "      <td>1</td>\n",
       "    </tr>\n",
       "    <tr>\n",
       "      <th>4</th>\n",
       "      <td>0</td>\n",
       "      <td>0</td>\n",
       "      <td>32</td>\n",
       "      <td>0</td>\n",
       "      <td>3.0</td>\n",
       "      <td>0</td>\n",
       "      <td>2</td>\n",
       "      <td>2</td>\n",
       "      <td>1988</td>\n",
       "      <td>1</td>\n",
       "    </tr>\n",
       "  </tbody>\n",
       "</table>\n",
       "</div>"
      ],
      "text/plain": [
       "   occupant_role  sex  occupant_age  ultimate_outcome  injury_severity  \\\n",
       "0              0    0            26                 0              3.0   \n",
       "1              0    0            72                 0              1.0   \n",
       "2              0    0            69                 0              4.0   \n",
       "3              0    0            53                 0              1.0   \n",
       "4              0    0            32                 0              3.0   \n",
       "\n",
       "   seatbelt  est_impact_kmh  airbag_deployment vehicle_year  front_impact  \n",
       "0         0               2                  2         1990             1  \n",
       "1         0               1                  0         1995             1  \n",
       "2         1               1                  2         1988             1  \n",
       "3         0               2                  0         1995             1  \n",
       "4         0               2                  2         1988             1  "
      ]
     },
     "execution_count": 19,
     "metadata": {},
     "output_type": "execute_result"
    }
   ],
   "source": [
    "le = LabelEncoder()\n",
    "\n",
    "crash_5 = crash_4.copy()\n",
    "crash_5['occupant_role'] = le.fit_transform(crash_5['occupant_role']) \n",
    "crash_5['sex'] = le.fit_transform(crash_5['sex'])\n",
    "crash_5['ultimate_outcome'] = le.fit_transform(crash_5['ultimate_outcome'])\n",
    "crash_5['seatbelt'] = le.fit_transform(crash_5['seatbelt'])\n",
    "crash_5['est_impact_kmh'] = le.fit_transform(crash_5['est_impact_kmh'])\n",
    "crash_5['airbag_deployment'] = le.fit_transform(crash_5['airbag_deployment'])\n",
    "crash_5['front_impact'] = le.fit_transform(crash_5['front_impact'])\n",
    "\n",
    "crash_5.head()"
   ]
  },
  {
   "cell_type": "markdown",
   "metadata": {},
   "source": [
    "### Split the Data into Training & Testing Sets"
   ]
  },
  {
   "cell_type": "code",
   "execution_count": 20,
   "metadata": {},
   "outputs": [
    {
     "data": {
      "text/plain": [
       "(19547, 9)"
      ]
     },
     "execution_count": 20,
     "metadata": {},
     "output_type": "execute_result"
    }
   ],
   "source": [
    "# Separate the features (X) from the target (y):\n",
    "y = crash_5['ultimate_outcome']\n",
    "X = crash_5.drop(columns='ultimate_outcome')\n",
    "\n",
    "# Split data into training & testing:\n",
    "X_train, X_test, y_train, y_test = train_test_split(X, y, random_state=1, stratify=y)\n",
    "X_train.shape"
   ]
  },
  {
   "cell_type": "markdown",
   "metadata": {},
   "source": [
    "### Balanced Random Forest Classifier:"
   ]
  },
  {
   "cell_type": "code",
   "execution_count": 21,
   "metadata": {},
   "outputs": [
    {
     "data": {
      "text/plain": [
       "BalancedRandomForestClassifier(random_state=1)"
      ]
     },
     "execution_count": 21,
     "metadata": {},
     "output_type": "execute_result"
    }
   ],
   "source": [
    "# Resample the training data with the BalancedRandomForestClassifier:\n",
    "BRFC = BalancedRandomForestClassifier(n_estimators=100, random_state=1)\n",
    "BRFC.fit(X_train, y_train)"
   ]
  },
  {
   "cell_type": "code",
   "execution_count": 22,
   "metadata": {},
   "outputs": [
    {
     "data": {
      "text/plain": [
       "0.9545279929380801"
      ]
     },
     "execution_count": 22,
     "metadata": {},
     "output_type": "execute_result"
    }
   ],
   "source": [
    "# Calculate the balanced accuracy score:\n",
    "BFRC_pred = BRFC.predict(X_test)\n",
    "balanced_accuracy_score(y_test, BFRC_pred)"
   ]
  },
  {
   "cell_type": "code",
   "execution_count": 23,
   "metadata": {},
   "outputs": [
    {
     "data": {
      "text/plain": [
       "array([[6077,  144],\n",
       "       [  20,  275]])"
      ]
     },
     "execution_count": 23,
     "metadata": {},
     "output_type": "execute_result"
    }
   ],
   "source": [
    "# Display the confusion matrix:\n",
    "confusion_matrix(y_test, BFRC_pred)"
   ]
  },
  {
   "cell_type": "code",
   "execution_count": 24,
   "metadata": {},
   "outputs": [
    {
     "name": "stdout",
     "output_type": "stream",
     "text": [
      "                   pre       rec       spe        f1       geo       iba       sup\n",
      "\n",
      "          0       1.00      0.98      0.93      0.99      0.95      0.91      6221\n",
      "          1       0.66      0.93      0.98      0.77      0.95      0.91       295\n",
      "\n",
      "avg / total       0.98      0.97      0.93      0.98      0.95      0.91      6516\n",
      "\n"
     ]
    }
   ],
   "source": [
    "# Print the imbalanced classification report:\n",
    "print(classification_report_imbalanced(y_test, BFRC_pred))"
   ]
  },
  {
   "cell_type": "code",
   "execution_count": 25,
   "metadata": {},
   "outputs": [
    {
     "data": {
      "text/plain": [
       "[(0.6882189727380738, 'injury_severity'),\n",
       " (0.12779829263470893, 'est_impact_kmh'),\n",
       " (0.07420672975580013, 'occupant_age'),\n",
       " (0.03690981047880008, 'vehicle_year'),\n",
       " (0.034854471324103374, 'seatbelt'),\n",
       " (0.012725779281565815, 'front_impact'),\n",
       " (0.009435762295645904, 'airbag_deployment'),\n",
       " (0.007997001819800814, 'occupant_role'),\n",
       " (0.007853179671501235, 'sex')]"
      ]
     },
     "execution_count": 25,
     "metadata": {},
     "output_type": "execute_result"
    }
   ],
   "source": [
    "# List the features sorted in descending order by feature importance:\n",
    "importances = BRFC.feature_importances_\n",
    "sorted(zip(importances, X.columns), reverse=True)"
   ]
  },
  {
   "cell_type": "markdown",
   "metadata": {},
   "source": [
    "### Easy Ensemble AdaBoost Classifier"
   ]
  },
  {
   "cell_type": "code",
   "execution_count": 26,
   "metadata": {},
   "outputs": [
    {
     "data": {
      "text/plain": [
       "EasyEnsembleClassifier(n_estimators=100, random_state=1)"
      ]
     },
     "execution_count": 26,
     "metadata": {},
     "output_type": "execute_result"
    }
   ],
   "source": [
    "# Train the classifier:\n",
    "EEC = EasyEnsembleClassifier(n_estimators=100, random_state=1)\n",
    "EEC.fit(X_train, y_train)"
   ]
  },
  {
   "cell_type": "code",
   "execution_count": 27,
   "metadata": {},
   "outputs": [
    {
     "data": {
      "text/plain": [
       "0.961877348183708"
      ]
     },
     "execution_count": 27,
     "metadata": {},
     "output_type": "execute_result"
    }
   ],
   "source": [
    "# Calculate the balanced accuracy score:\n",
    "EEC_pred = EEC.predict(X_test)\n",
    "balanced_accuracy_score(y_test, EEC_pred)"
   ]
  },
  {
   "cell_type": "code",
   "execution_count": 28,
   "metadata": {},
   "outputs": [
    {
     "data": {
      "text/plain": [
       "array([[6063,  158],\n",
       "       [  15,  280]])"
      ]
     },
     "execution_count": 28,
     "metadata": {},
     "output_type": "execute_result"
    }
   ],
   "source": [
    "# Display the confusion matrix:\n",
    "confusion_matrix(y_test, EEC_pred)"
   ]
  },
  {
   "cell_type": "code",
   "execution_count": 29,
   "metadata": {},
   "outputs": [
    {
     "name": "stdout",
     "output_type": "stream",
     "text": [
      "                   pre       rec       spe        f1       geo       iba       sup\n",
      "\n",
      "          0       1.00      0.97      0.95      0.99      0.96      0.93      6221\n",
      "          1       0.64      0.95      0.97      0.76      0.96      0.92       295\n",
      "\n",
      "avg / total       0.98      0.97      0.95      0.98      0.96      0.93      6516\n",
      "\n"
     ]
    }
   ],
   "source": [
    "# Print the imbalanced classification report:\n",
    "print(classification_report_imbalanced(y_test, EEC_pred))"
   ]
  },
  {
   "cell_type": "markdown",
   "metadata": {},
   "source": [
    "### Naive Random Oversampling"
   ]
  },
  {
   "cell_type": "code",
   "execution_count": 30,
   "metadata": {},
   "outputs": [],
   "source": [
    "# Resample the training data with the RandomOversampler:\n",
    "ROS = RandomOverSampler(random_state=1)\n",
    "X_resampled, y_resampled = ROS.fit_resample(X_train, y_train)"
   ]
  },
  {
   "cell_type": "code",
   "execution_count": 31,
   "metadata": {},
   "outputs": [
    {
     "data": {
      "text/plain": [
       "LogisticRegression(random_state=1)"
      ]
     },
     "execution_count": 31,
     "metadata": {},
     "output_type": "execute_result"
    }
   ],
   "source": [
    "# Train the Logistic Regression model using the resampled data:\n",
    "ROS_model = LogisticRegression(solver='lbfgs', random_state=1)\n",
    "ROS_model.fit(X_resampled, y_resampled)"
   ]
  },
  {
   "cell_type": "code",
   "execution_count": 32,
   "metadata": {},
   "outputs": [
    {
     "data": {
      "text/plain": [
       "0.9597876519933849"
      ]
     },
     "execution_count": 32,
     "metadata": {},
     "output_type": "execute_result"
    }
   ],
   "source": [
    "# Calculated the balanced accuracy score:\n",
    "ROS_pred = ROS_model.predict(X_test)\n",
    "balanced_accuracy_score(y_test, ROS_pred)"
   ]
  },
  {
   "cell_type": "code",
   "execution_count": 33,
   "metadata": {},
   "outputs": [
    {
     "data": {
      "text/plain": [
       "array([[6037,  184],\n",
       "       [  15,  280]])"
      ]
     },
     "execution_count": 33,
     "metadata": {},
     "output_type": "execute_result"
    }
   ],
   "source": [
    "# Display the confusion matrix:\n",
    "confusion_matrix(y_test, ROS_pred)"
   ]
  },
  {
   "cell_type": "code",
   "execution_count": 34,
   "metadata": {},
   "outputs": [
    {
     "name": "stdout",
     "output_type": "stream",
     "text": [
      "                   pre       rec       spe        f1       geo       iba       sup\n",
      "\n",
      "          0       1.00      0.97      0.95      0.98      0.96      0.92      6221\n",
      "          1       0.60      0.95      0.97      0.74      0.96      0.92       295\n",
      "\n",
      "avg / total       0.98      0.97      0.95      0.97      0.96      0.92      6516\n",
      "\n"
     ]
    }
   ],
   "source": [
    "# Print the imbalanced classification report:\n",
    "print(classification_report_imbalanced(y_test, ROS_pred))"
   ]
  },
  {
   "cell_type": "markdown",
   "metadata": {},
   "source": [
    "### SMOTE Oversampling"
   ]
  },
  {
   "cell_type": "code",
   "execution_count": 35,
   "metadata": {},
   "outputs": [],
   "source": [
    "# Resample the training data with SMOTE:\n",
    "X_resampled, y_resampled = SMOTE(random_state=1, sampling_strategy='auto').fit_resample(X_train, y_train)"
   ]
  },
  {
   "cell_type": "code",
   "execution_count": 36,
   "metadata": {},
   "outputs": [
    {
     "data": {
      "text/plain": [
       "LogisticRegression(random_state=1)"
      ]
     },
     "execution_count": 36,
     "metadata": {},
     "output_type": "execute_result"
    }
   ],
   "source": [
    "# Train the Logistic Regression model using the resampled data:\n",
    "Smote_model = LogisticRegression(solver='lbfgs', random_state=1)\n",
    "Smote_model.fit(X_resampled, y_resampled)"
   ]
  },
  {
   "cell_type": "code",
   "execution_count": 37,
   "metadata": {},
   "outputs": [
    {
     "data": {
      "text/plain": [
       "0.9633831827135536"
      ]
     },
     "execution_count": 37,
     "metadata": {},
     "output_type": "execute_result"
    }
   ],
   "source": [
    "# Calculate the balanced accuracy score:\n",
    "SMOTE_pred = Smote_model.predict(X_test)\n",
    "balanced_accuracy_score(y_test, SMOTE_pred)"
   ]
  },
  {
   "cell_type": "code",
   "execution_count": 38,
   "metadata": {},
   "outputs": [
    {
     "data": {
      "text/plain": [
       "array([[6145,   76],\n",
       "       [  18,  277]])"
      ]
     },
     "execution_count": 38,
     "metadata": {},
     "output_type": "execute_result"
    }
   ],
   "source": [
    "# Display the confusion matrix\n",
    "confusion_matrix(y_test, SMOTE_pred)"
   ]
  },
  {
   "cell_type": "code",
   "execution_count": 39,
   "metadata": {},
   "outputs": [
    {
     "name": "stdout",
     "output_type": "stream",
     "text": [
      "                   pre       rec       spe        f1       geo       iba       sup\n",
      "\n",
      "          0       1.00      0.99      0.94      0.99      0.96      0.93      6221\n",
      "          1       0.78      0.94      0.99      0.85      0.96      0.92       295\n",
      "\n",
      "avg / total       0.99      0.99      0.94      0.99      0.96      0.93      6516\n",
      "\n"
     ]
    }
   ],
   "source": [
    "# Print the imbalanced classification report\n",
    "print(classification_report_imbalanced(y_test, SMOTE_pred))"
   ]
  },
  {
   "cell_type": "markdown",
   "metadata": {},
   "source": [
    "### Undersampling"
   ]
  },
  {
   "cell_type": "code",
   "execution_count": 40,
   "metadata": {},
   "outputs": [],
   "source": [
    "# Resample the data using the ClusterCentroids resampler:\n",
    "CC = ClusterCentroids(random_state=1)\n",
    "X_resampled, y_resampled = CC.fit_resample(X_train, y_train)"
   ]
  },
  {
   "cell_type": "code",
   "execution_count": 41,
   "metadata": {},
   "outputs": [
    {
     "data": {
      "text/plain": [
       "LogisticRegression(random_state=78)"
      ]
     },
     "execution_count": 41,
     "metadata": {},
     "output_type": "execute_result"
    }
   ],
   "source": [
    "# Train the Logistic Regression model using the resampled data:\n",
    "CC_model = LogisticRegression(solver='lbfgs', random_state=78)\n",
    "CC_model.fit(X_resampled, y_resampled)"
   ]
  },
  {
   "cell_type": "code",
   "execution_count": 42,
   "metadata": {},
   "outputs": [
    {
     "data": {
      "text/plain": [
       "0.8663918548165181"
      ]
     },
     "execution_count": 42,
     "metadata": {},
     "output_type": "execute_result"
    }
   ],
   "source": [
    "# Calculate the balanced accuracy score:\n",
    "CC_pred = CC_model.predict(X_test)\n",
    "balanced_accuracy_score(y_test, CC_pred)"
   ]
  },
  {
   "cell_type": "code",
   "execution_count": 43,
   "metadata": {},
   "outputs": [
    {
     "data": {
      "text/plain": [
       "array([[4643, 1578],\n",
       "       [   4,  291]])"
      ]
     },
     "execution_count": 43,
     "metadata": {},
     "output_type": "execute_result"
    }
   ],
   "source": [
    "# Display the confusion matrix:\n",
    "confusion_matrix(y_test, CC_pred)"
   ]
  },
  {
   "cell_type": "code",
   "execution_count": 44,
   "metadata": {},
   "outputs": [
    {
     "name": "stdout",
     "output_type": "stream",
     "text": [
      "                   pre       rec       spe        f1       geo       iba       sup\n",
      "\n",
      "          0       1.00      0.75      0.99      0.85      0.86      0.72      6221\n",
      "          1       0.16      0.99      0.75      0.27      0.86      0.75       295\n",
      "\n",
      "avg / total       0.96      0.76      0.98      0.83      0.86      0.72      6516\n",
      "\n"
     ]
    }
   ],
   "source": [
    "# Print the imbalanced classification report:\n",
    "print(classification_report_imbalanced(y_test, CC_pred))"
   ]
  },
  {
   "cell_type": "markdown",
   "metadata": {},
   "source": [
    "### Combination (Over and Under) Sampling"
   ]
  },
  {
   "cell_type": "code",
   "execution_count": 45,
   "metadata": {},
   "outputs": [],
   "source": [
    "# Resample the training data with SMOTEENN:\n",
    "SMTN = SMOTEENN(random_state=0)\n",
    "X_resampled2, y_resampled2 = SMTN.fit_resample(X, y)"
   ]
  },
  {
   "cell_type": "code",
   "execution_count": 46,
   "metadata": {},
   "outputs": [
    {
     "data": {
      "text/plain": [
       "LogisticRegression(random_state=1)"
      ]
     },
     "execution_count": 46,
     "metadata": {},
     "output_type": "execute_result"
    }
   ],
   "source": [
    "# Train the Logistic Regression model using the resampled data:\n",
    "SMTN_model = LogisticRegression(solver='lbfgs', random_state=1)\n",
    "SMTN_model.fit(X_resampled, y_resampled)"
   ]
  },
  {
   "cell_type": "code",
   "execution_count": 47,
   "metadata": {},
   "outputs": [
    {
     "data": {
      "text/plain": [
       "0.8663918548165181"
      ]
     },
     "execution_count": 47,
     "metadata": {},
     "output_type": "execute_result"
    }
   ],
   "source": [
    "# Calculate the balanced accuracy score:\n",
    "SMTN_pred = SMTN_model.predict(X_test)\n",
    "balanced_accuracy_score(y_test, SMTN_pred)"
   ]
  },
  {
   "cell_type": "code",
   "execution_count": 48,
   "metadata": {},
   "outputs": [
    {
     "data": {
      "text/plain": [
       "array([[4643, 1578],\n",
       "       [   4,  291]])"
      ]
     },
     "execution_count": 48,
     "metadata": {},
     "output_type": "execute_result"
    }
   ],
   "source": [
    "# Display the confusion matrix:\n",
    "confusion_matrix(y_test, SMTN_pred)"
   ]
  },
  {
   "cell_type": "code",
   "execution_count": 49,
   "metadata": {},
   "outputs": [
    {
     "name": "stdout",
     "output_type": "stream",
     "text": [
      "                   pre       rec       spe        f1       geo       iba       sup\n",
      "\n",
      "          0       1.00      0.75      0.99      0.85      0.86      0.72      6221\n",
      "          1       0.16      0.99      0.75      0.27      0.86      0.75       295\n",
      "\n",
      "avg / total       0.96      0.76      0.98      0.83      0.86      0.72      6516\n",
      "\n"
     ]
    }
   ],
   "source": [
    "# Print the imbalanced classification report:\n",
    "print(classification_report_imbalanced(y_test, SMTN_pred))"
   ]
  },
  {
   "cell_type": "code",
   "execution_count": null,
   "metadata": {},
   "outputs": [],
   "source": []
  }
 ],
 "metadata": {
  "kernelspec": {
   "display_name": "Python 3",
   "language": "python",
   "name": "python3"
  },
  "language_info": {
   "codemirror_mode": {
    "name": "ipython",
    "version": 3
   },
   "file_extension": ".py",
   "mimetype": "text/x-python",
   "name": "python",
   "nbconvert_exporter": "python",
   "pygments_lexer": "ipython3",
   "version": "3.7.7"
  }
 },
 "nbformat": 4,
 "nbformat_minor": 4
}
