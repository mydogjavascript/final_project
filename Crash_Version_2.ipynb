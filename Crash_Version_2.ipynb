{
 "cells": [
  {
   "cell_type": "markdown",
   "metadata": {},
   "source": [
    "# Airbags and Other Influences on Accident Fatalities\n",
    "##### Description:\n",
    "* US data, for 1997-2002, from police-reported car crashes in which there is a harmful event (people or property),<br> and from which at least one vehicle was towed. Data are restricted to front-seat occupants, include only a subset<br> of the variables recorded, and are restricted in other ways also.\n",
    "##### dvcat\n",
    "* Ordered factor with levels (estimated impact speeds) 1-9km/h, 10-24, 25-39, 40-54, 55+\n",
    "##### weight\n",
    "* Observation weights, albeit of uncertain accuracy, designed to account for varying sampling probabilities.\n",
    "##### dead\n",
    "* Factor with levels alive dead\n",
    "##### airbag\n",
    "* A factor with levels none airbag\n",
    "##### seatbelt\n",
    "* A factor with levels none belted\n",
    "##### frontal\n",
    "* A numeric vector; 0 = non-frontal, 1=frontal impact\n",
    "##### sex\n",
    "* A factor with levels f m\n",
    "##### ageOFocc\n",
    "* Age of occupant in years\n",
    "##### yearacc\n",
    "* Year of accident\n",
    "##### yearVeh\n",
    "* Year of model of vehicle; a numeric vector\n",
    "##### abcat\n",
    "* Did one or more (driver or passenger) airbag(s) deploy? This factor has levels deploy nodeploy unavail\n",
    "##### occRole\n",
    "* A factor with levels driver pass\n",
    "##### deploy\n",
    "* A numeric vector: 0 if an airbag was unavailable or did not deploy; 1 if one or more bags deployed.\n",
    "##### injSeverity\n",
    "* A numeric vector: <br>0=None, 1=Possible Injury, 2=No Incapacity, 3=Incapacity, 4=Killed, 5=Unknown, 6=Prior Death\n",
    "##### caseid\n",
    "* A character created by pasting together the populations sampling unit, the case number, and the vehicle number.<br> Within each year, use this to uniquely identify the vehicle.\n",
    "\n"
   ]
  },
  {
   "cell_type": "markdown",
   "metadata": {},
   "source": [
    "# Import Dependencies / Machine Learning"
   ]
  },
  {
   "cell_type": "code",
   "execution_count": 48,
   "metadata": {},
   "outputs": [],
   "source": [
    "import warnings\n",
    "warnings.filterwarnings('ignore')\n",
    "\n",
    "import pandas as pd\n",
    "from sklearn.tree import DecisionTreeClassifier\n",
    "from sklearn.model_selection import train_test_split"
   ]
  },
  {
   "cell_type": "markdown",
   "metadata": {},
   "source": [
    "# Import Dataset"
   ]
  },
  {
   "cell_type": "code",
   "execution_count": 49,
   "metadata": {
    "scrolled": false
   },
   "outputs": [
    {
     "data": {
      "text/html": [
       "<div>\n",
       "<style scoped>\n",
       "    .dataframe tbody tr th:only-of-type {\n",
       "        vertical-align: middle;\n",
       "    }\n",
       "\n",
       "    .dataframe tbody tr th {\n",
       "        vertical-align: top;\n",
       "    }\n",
       "\n",
       "    .dataframe thead th {\n",
       "        text-align: right;\n",
       "    }\n",
       "</style>\n",
       "<table border=\"1\" class=\"dataframe\">\n",
       "  <thead>\n",
       "    <tr style=\"text-align: right;\">\n",
       "      <th></th>\n",
       "      <th>dvcat</th>\n",
       "      <th>weight</th>\n",
       "      <th>dead</th>\n",
       "      <th>airbag</th>\n",
       "      <th>seatbelt</th>\n",
       "      <th>frontal</th>\n",
       "      <th>sex</th>\n",
       "      <th>ageOFocc</th>\n",
       "      <th>yearacc</th>\n",
       "      <th>yearVeh</th>\n",
       "      <th>abcat</th>\n",
       "      <th>occRole</th>\n",
       "      <th>deploy</th>\n",
       "      <th>injSeverity</th>\n",
       "      <th>caseid</th>\n",
       "    </tr>\n",
       "  </thead>\n",
       "  <tbody>\n",
       "    <tr>\n",
       "      <th>1</th>\n",
       "      <td>25-39</td>\n",
       "      <td>25.069</td>\n",
       "      <td>alive</td>\n",
       "      <td>none</td>\n",
       "      <td>belted</td>\n",
       "      <td>1</td>\n",
       "      <td>f</td>\n",
       "      <td>26</td>\n",
       "      <td>1997</td>\n",
       "      <td>1990.0</td>\n",
       "      <td>unavail</td>\n",
       "      <td>driver</td>\n",
       "      <td>0</td>\n",
       "      <td>3.0</td>\n",
       "      <td>2:3:1</td>\n",
       "    </tr>\n",
       "    <tr>\n",
       "      <th>2</th>\n",
       "      <td>10-24</td>\n",
       "      <td>25.069</td>\n",
       "      <td>alive</td>\n",
       "      <td>airbag</td>\n",
       "      <td>belted</td>\n",
       "      <td>1</td>\n",
       "      <td>f</td>\n",
       "      <td>72</td>\n",
       "      <td>1997</td>\n",
       "      <td>1995.0</td>\n",
       "      <td>deploy</td>\n",
       "      <td>driver</td>\n",
       "      <td>1</td>\n",
       "      <td>1.0</td>\n",
       "      <td>2:3:2</td>\n",
       "    </tr>\n",
       "    <tr>\n",
       "      <th>3</th>\n",
       "      <td>10-24</td>\n",
       "      <td>32.379</td>\n",
       "      <td>alive</td>\n",
       "      <td>none</td>\n",
       "      <td>none</td>\n",
       "      <td>1</td>\n",
       "      <td>f</td>\n",
       "      <td>69</td>\n",
       "      <td>1997</td>\n",
       "      <td>1988.0</td>\n",
       "      <td>unavail</td>\n",
       "      <td>driver</td>\n",
       "      <td>0</td>\n",
       "      <td>4.0</td>\n",
       "      <td>2:5:1</td>\n",
       "    </tr>\n",
       "    <tr>\n",
       "      <th>4</th>\n",
       "      <td>25-39</td>\n",
       "      <td>495.444</td>\n",
       "      <td>alive</td>\n",
       "      <td>airbag</td>\n",
       "      <td>belted</td>\n",
       "      <td>1</td>\n",
       "      <td>f</td>\n",
       "      <td>53</td>\n",
       "      <td>1997</td>\n",
       "      <td>1995.0</td>\n",
       "      <td>deploy</td>\n",
       "      <td>driver</td>\n",
       "      <td>1</td>\n",
       "      <td>1.0</td>\n",
       "      <td>2:10:1</td>\n",
       "    </tr>\n",
       "    <tr>\n",
       "      <th>5</th>\n",
       "      <td>25-39</td>\n",
       "      <td>25.069</td>\n",
       "      <td>alive</td>\n",
       "      <td>none</td>\n",
       "      <td>belted</td>\n",
       "      <td>1</td>\n",
       "      <td>f</td>\n",
       "      <td>32</td>\n",
       "      <td>1997</td>\n",
       "      <td>1988.0</td>\n",
       "      <td>unavail</td>\n",
       "      <td>driver</td>\n",
       "      <td>0</td>\n",
       "      <td>3.0</td>\n",
       "      <td>2:11:1</td>\n",
       "    </tr>\n",
       "  </tbody>\n",
       "</table>\n",
       "</div>"
      ],
      "text/plain": [
       "   dvcat   weight   dead  airbag seatbelt  frontal sex  ageOFocc  yearacc  \\\n",
       "1  25-39   25.069  alive    none   belted        1   f        26     1997   \n",
       "2  10-24   25.069  alive  airbag   belted        1   f        72     1997   \n",
       "3  10-24   32.379  alive    none     none        1   f        69     1997   \n",
       "4  25-39  495.444  alive  airbag   belted        1   f        53     1997   \n",
       "5  25-39   25.069  alive    none   belted        1   f        32     1997   \n",
       "\n",
       "   yearVeh    abcat occRole  deploy  injSeverity  caseid  \n",
       "1   1990.0  unavail  driver       0          3.0   2:3:1  \n",
       "2   1995.0   deploy  driver       1          1.0   2:3:2  \n",
       "3   1988.0  unavail  driver       0          4.0   2:5:1  \n",
       "4   1995.0   deploy  driver       1          1.0  2:10:1  \n",
       "5   1988.0  unavail  driver       0          3.0  2:11:1  "
      ]
     },
     "execution_count": 49,
     "metadata": {},
     "output_type": "execute_result"
    }
   ],
   "source": [
    "# Import the dataset from Google Drive:\n",
    "url = ('https://drive.google.com/file/d/1t3Z8Blgy2BPmBB4FqrQkC_jie9IwYuQb/view?usp=sharing')\n",
    "path = 'https://drive.google.com/uc?export=download&id='+url.split('/')[-2]\n",
    "crash_1 = pd.read_csv(path,index_col=0)\n",
    "crash_1.head()"
   ]
  },
  {
   "cell_type": "markdown",
   "metadata": {},
   "source": [
    "# Initialize Dataset for Analysis"
   ]
  },
  {
   "cell_type": "code",
   "execution_count": 50,
   "metadata": {},
   "outputs": [
    {
     "data": {
      "text/html": [
       "<div>\n",
       "<style scoped>\n",
       "    .dataframe tbody tr th:only-of-type {\n",
       "        vertical-align: middle;\n",
       "    }\n",
       "\n",
       "    .dataframe tbody tr th {\n",
       "        vertical-align: top;\n",
       "    }\n",
       "\n",
       "    .dataframe thead th {\n",
       "        text-align: right;\n",
       "    }\n",
       "</style>\n",
       "<table border=\"1\" class=\"dataframe\">\n",
       "  <thead>\n",
       "    <tr style=\"text-align: right;\">\n",
       "      <th></th>\n",
       "      <th>est_impact_kmh</th>\n",
       "      <th>occupant_status</th>\n",
       "      <th>airbag_available</th>\n",
       "      <th>seatbelt</th>\n",
       "      <th>front_impact</th>\n",
       "      <th>sex</th>\n",
       "      <th>occupant_age</th>\n",
       "      <th>accident_year</th>\n",
       "      <th>vehicle_year</th>\n",
       "      <th>airbag_deployment</th>\n",
       "      <th>occupant_role</th>\n",
       "      <th>deployment</th>\n",
       "      <th>injury_severity</th>\n",
       "    </tr>\n",
       "  </thead>\n",
       "  <tbody>\n",
       "    <tr>\n",
       "      <th>1</th>\n",
       "      <td>25-39</td>\n",
       "      <td>alive</td>\n",
       "      <td>none</td>\n",
       "      <td>belted</td>\n",
       "      <td>1</td>\n",
       "      <td>f</td>\n",
       "      <td>26</td>\n",
       "      <td>1997</td>\n",
       "      <td>1990.0</td>\n",
       "      <td>unavail</td>\n",
       "      <td>driver</td>\n",
       "      <td>0</td>\n",
       "      <td>3.0</td>\n",
       "    </tr>\n",
       "    <tr>\n",
       "      <th>2</th>\n",
       "      <td>10-24</td>\n",
       "      <td>alive</td>\n",
       "      <td>airbag</td>\n",
       "      <td>belted</td>\n",
       "      <td>1</td>\n",
       "      <td>f</td>\n",
       "      <td>72</td>\n",
       "      <td>1997</td>\n",
       "      <td>1995.0</td>\n",
       "      <td>deploy</td>\n",
       "      <td>driver</td>\n",
       "      <td>1</td>\n",
       "      <td>1.0</td>\n",
       "    </tr>\n",
       "    <tr>\n",
       "      <th>3</th>\n",
       "      <td>10-24</td>\n",
       "      <td>alive</td>\n",
       "      <td>none</td>\n",
       "      <td>none</td>\n",
       "      <td>1</td>\n",
       "      <td>f</td>\n",
       "      <td>69</td>\n",
       "      <td>1997</td>\n",
       "      <td>1988.0</td>\n",
       "      <td>unavail</td>\n",
       "      <td>driver</td>\n",
       "      <td>0</td>\n",
       "      <td>4.0</td>\n",
       "    </tr>\n",
       "    <tr>\n",
       "      <th>4</th>\n",
       "      <td>25-39</td>\n",
       "      <td>alive</td>\n",
       "      <td>airbag</td>\n",
       "      <td>belted</td>\n",
       "      <td>1</td>\n",
       "      <td>f</td>\n",
       "      <td>53</td>\n",
       "      <td>1997</td>\n",
       "      <td>1995.0</td>\n",
       "      <td>deploy</td>\n",
       "      <td>driver</td>\n",
       "      <td>1</td>\n",
       "      <td>1.0</td>\n",
       "    </tr>\n",
       "    <tr>\n",
       "      <th>5</th>\n",
       "      <td>25-39</td>\n",
       "      <td>alive</td>\n",
       "      <td>none</td>\n",
       "      <td>belted</td>\n",
       "      <td>1</td>\n",
       "      <td>f</td>\n",
       "      <td>32</td>\n",
       "      <td>1997</td>\n",
       "      <td>1988.0</td>\n",
       "      <td>unavail</td>\n",
       "      <td>driver</td>\n",
       "      <td>0</td>\n",
       "      <td>3.0</td>\n",
       "    </tr>\n",
       "    <tr>\n",
       "      <th>...</th>\n",
       "      <td>...</td>\n",
       "      <td>...</td>\n",
       "      <td>...</td>\n",
       "      <td>...</td>\n",
       "      <td>...</td>\n",
       "      <td>...</td>\n",
       "      <td>...</td>\n",
       "      <td>...</td>\n",
       "      <td>...</td>\n",
       "      <td>...</td>\n",
       "      <td>...</td>\n",
       "      <td>...</td>\n",
       "      <td>...</td>\n",
       "    </tr>\n",
       "    <tr>\n",
       "      <th>26213</th>\n",
       "      <td>25-39</td>\n",
       "      <td>alive</td>\n",
       "      <td>none</td>\n",
       "      <td>belted</td>\n",
       "      <td>1</td>\n",
       "      <td>m</td>\n",
       "      <td>17</td>\n",
       "      <td>2002</td>\n",
       "      <td>1985.0</td>\n",
       "      <td>unavail</td>\n",
       "      <td>driver</td>\n",
       "      <td>0</td>\n",
       "      <td>0.0</td>\n",
       "    </tr>\n",
       "    <tr>\n",
       "      <th>26214</th>\n",
       "      <td>10-24</td>\n",
       "      <td>alive</td>\n",
       "      <td>airbag</td>\n",
       "      <td>belted</td>\n",
       "      <td>1</td>\n",
       "      <td>m</td>\n",
       "      <td>54</td>\n",
       "      <td>2002</td>\n",
       "      <td>2002.0</td>\n",
       "      <td>nodeploy</td>\n",
       "      <td>driver</td>\n",
       "      <td>0</td>\n",
       "      <td>2.0</td>\n",
       "    </tr>\n",
       "    <tr>\n",
       "      <th>26215</th>\n",
       "      <td>10-24</td>\n",
       "      <td>alive</td>\n",
       "      <td>airbag</td>\n",
       "      <td>belted</td>\n",
       "      <td>1</td>\n",
       "      <td>f</td>\n",
       "      <td>27</td>\n",
       "      <td>2002</td>\n",
       "      <td>1990.0</td>\n",
       "      <td>deploy</td>\n",
       "      <td>driver</td>\n",
       "      <td>1</td>\n",
       "      <td>3.0</td>\n",
       "    </tr>\n",
       "    <tr>\n",
       "      <th>26216</th>\n",
       "      <td>25-39</td>\n",
       "      <td>alive</td>\n",
       "      <td>airbag</td>\n",
       "      <td>belted</td>\n",
       "      <td>1</td>\n",
       "      <td>f</td>\n",
       "      <td>18</td>\n",
       "      <td>2002</td>\n",
       "      <td>1999.0</td>\n",
       "      <td>deploy</td>\n",
       "      <td>driver</td>\n",
       "      <td>1</td>\n",
       "      <td>0.0</td>\n",
       "    </tr>\n",
       "    <tr>\n",
       "      <th>26217</th>\n",
       "      <td>25-39</td>\n",
       "      <td>alive</td>\n",
       "      <td>airbag</td>\n",
       "      <td>belted</td>\n",
       "      <td>1</td>\n",
       "      <td>m</td>\n",
       "      <td>17</td>\n",
       "      <td>2002</td>\n",
       "      <td>1999.0</td>\n",
       "      <td>deploy</td>\n",
       "      <td>pass</td>\n",
       "      <td>1</td>\n",
       "      <td>0.0</td>\n",
       "    </tr>\n",
       "  </tbody>\n",
       "</table>\n",
       "<p>26217 rows × 13 columns</p>\n",
       "</div>"
      ],
      "text/plain": [
       "      est_impact_kmh occupant_status airbag_available seatbelt  front_impact  \\\n",
       "1              25-39           alive             none   belted             1   \n",
       "2              10-24           alive           airbag   belted             1   \n",
       "3              10-24           alive             none     none             1   \n",
       "4              25-39           alive           airbag   belted             1   \n",
       "5              25-39           alive             none   belted             1   \n",
       "...              ...             ...              ...      ...           ...   \n",
       "26213          25-39           alive             none   belted             1   \n",
       "26214          10-24           alive           airbag   belted             1   \n",
       "26215          10-24           alive           airbag   belted             1   \n",
       "26216          25-39           alive           airbag   belted             1   \n",
       "26217          25-39           alive           airbag   belted             1   \n",
       "\n",
       "      sex  occupant_age  accident_year  vehicle_year airbag_deployment  \\\n",
       "1       f            26           1997        1990.0           unavail   \n",
       "2       f            72           1997        1995.0            deploy   \n",
       "3       f            69           1997        1988.0           unavail   \n",
       "4       f            53           1997        1995.0            deploy   \n",
       "5       f            32           1997        1988.0           unavail   \n",
       "...    ..           ...            ...           ...               ...   \n",
       "26213   m            17           2002        1985.0           unavail   \n",
       "26214   m            54           2002        2002.0          nodeploy   \n",
       "26215   f            27           2002        1990.0            deploy   \n",
       "26216   f            18           2002        1999.0            deploy   \n",
       "26217   m            17           2002        1999.0            deploy   \n",
       "\n",
       "      occupant_role  deployment  injury_severity  \n",
       "1            driver           0              3.0  \n",
       "2            driver           1              1.0  \n",
       "3            driver           0              4.0  \n",
       "4            driver           1              1.0  \n",
       "5            driver           0              3.0  \n",
       "...             ...         ...              ...  \n",
       "26213        driver           0              0.0  \n",
       "26214        driver           0              2.0  \n",
       "26215        driver           1              3.0  \n",
       "26216        driver           1              0.0  \n",
       "26217          pass           1              0.0  \n",
       "\n",
       "[26217 rows x 13 columns]"
      ]
     },
     "execution_count": 50,
     "metadata": {},
     "output_type": "execute_result"
    }
   ],
   "source": [
    "# Remove unneeded columns:\n",
    "# (weight refers to a value of unknown significance or origin)\n",
    "# (caseid numbers are not individual accident identifiers, numerous indicents assigned to single id's)\n",
    "crash_2 = crash_1.drop(['weight','caseid'], axis=1)\n",
    "\n",
    "# Rename the columns so they are easier to understand:\n",
    "crash_2.rename(columns={'dvcat':'est_impact_kmh',\n",
    "                         'dead':'occupant_status',\n",
    "                         'airbag':'airbag_available',\n",
    "                         'frontal':'front_impact',\n",
    "                         'ageOFocc':'occupant_age',\n",
    "                         'yearacc':'accident_year',\n",
    "                         'yearVeh':'vehicle_year',\n",
    "                         'abcat':'airbag_deployment',\n",
    "                         'occRole':'occupant_role',\n",
    "                         'deploy':'deployment',\n",
    "                         'injSeverity':'injury_severity'},inplace=True)\n",
    "\n",
    "crash_2"
   ]
  },
  {
   "cell_type": "code",
   "execution_count": 51,
   "metadata": {
    "scrolled": true
   },
   "outputs": [
    {
     "name": "stdout",
     "output_type": "stream",
     "text": [
      "Column est_impact_kmh has 0    null values\n",
      "Column occupant_status has 0    null values\n",
      "Column airbag_available has 0    null values\n",
      "Column seatbelt has 0    null values\n",
      "Column front_impact has 0    null values\n",
      "Column sex has 0    null values\n",
      "Column occupant_age has 0    null values\n",
      "Column accident_year has 0    null values\n",
      "Column vehicle_year has 1    null values\n",
      "Column airbag_deployment has 0    null values\n",
      "Column occupant_role has 0    null values\n",
      "Column deployment has 0    null values\n",
      "Column injury_severity has 153    null values\n"
     ]
    }
   ],
   "source": [
    "# Check the dataset for any null values:\n",
    "for column in crash_2.columns:\n",
    "    print(f'Column {column} has {crash_2[column].isnull().sum()}\\\n",
    "    null values')    "
   ]
  },
  {
   "cell_type": "code",
   "execution_count": 52,
   "metadata": {
    "scrolled": true
   },
   "outputs": [
    {
     "name": "stdout",
     "output_type": "stream",
     "text": [
      "Column est_impact_kmh has 0    null values\n",
      "Column occupant_status has 0    null values\n",
      "Column airbag_available has 0    null values\n",
      "Column seatbelt has 0    null values\n",
      "Column front_impact has 0    null values\n",
      "Column sex has 0    null values\n",
      "Column occupant_age has 0    null values\n",
      "Column accident_year has 0    null values\n",
      "Column vehicle_year has 0    null values\n",
      "Column airbag_deployment has 0    null values\n",
      "Column occupant_role has 0    null values\n",
      "Column deployment has 0    null values\n",
      "Column injury_severity has 0    null values\n"
     ]
    }
   ],
   "source": [
    "# Drop the null row:\n",
    "crash_3 = crash_2.dropna()\n",
    "for column in crash_3.columns:\n",
    "    print(f'Column {column} has {crash_3[column].isnull().sum()}\\\n",
    "    null values')"
   ]
  },
  {
   "cell_type": "code",
   "execution_count": 53,
   "metadata": {
    "scrolled": true
   },
   "outputs": [
    {
     "data": {
      "text/plain": [
       "10-24      12766\n",
       "25-39       8165\n",
       "40-54       2965\n",
       "55+         1491\n",
       "1-9km/h      676\n",
       "Name: est_impact_kmh, dtype: int64"
      ]
     },
     "execution_count": 53,
     "metadata": {},
     "output_type": "execute_result"
    }
   ],
   "source": [
    "# Print out the est_impact_kmh value counts:\n",
    "impact = crash_3.est_impact_kmh.value_counts()\n",
    "impact"
   ]
  },
  {
   "cell_type": "code",
   "execution_count": 54,
   "metadata": {
    "scrolled": true
   },
   "outputs": [],
   "source": [
    "# Rename values in est_impacgt_kmh & airbag_available:\n",
    "speed = '1-9'\n",
    "airbagsY = 'yes'\n",
    "airbagsN = 'no'\n",
    "\n",
    "crash_3['est_impact_kmh'] = crash_3['est_impact_kmh'].replace({'1-9km/h':speed})\n",
    "crash_3['airbag_available'] = crash_3['airbag_available'].replace({'airbag':airbagsY,'none':airbagsN})"
   ]
  },
  {
   "cell_type": "code",
   "execution_count": 55,
   "metadata": {
    "scrolled": false
   },
   "outputs": [
    {
     "data": {
      "text/plain": [
       "alive    24883\n",
       "dead      1180\n",
       "Name: occupant_status, dtype: int64"
      ]
     },
     "execution_count": 55,
     "metadata": {},
     "output_type": "execute_result"
    }
   ],
   "source": [
    "# Print out the occupant_status value counts:\n",
    "survive = crash_3.occupant_status.value_counts()\n",
    "survive"
   ]
  },
  {
   "cell_type": "code",
   "execution_count": 56,
   "metadata": {},
   "outputs": [
    {
     "data": {
      "text/plain": [
       "yes    14336\n",
       "no     11727\n",
       "Name: airbag_available, dtype: int64"
      ]
     },
     "execution_count": 56,
     "metadata": {},
     "output_type": "execute_result"
    }
   ],
   "source": [
    "# Print out the airbag value counts:\n",
    "airbag_available = crash_3.airbag_available.value_counts()\n",
    "airbag_available"
   ]
  },
  {
   "cell_type": "code",
   "execution_count": 57,
   "metadata": {},
   "outputs": [
    {
     "data": {
      "text/plain": [
       "belted    18465\n",
       "none       7598\n",
       "Name: seatbelt, dtype: int64"
      ]
     },
     "execution_count": 57,
     "metadata": {},
     "output_type": "execute_result"
    }
   ],
   "source": [
    "# Print out the seatbelt value counts:\n",
    "seatbelt = crash_3.seatbelt.value_counts()\n",
    "seatbelt"
   ]
  },
  {
   "cell_type": "code",
   "execution_count": 58,
   "metadata": {},
   "outputs": [
    {
     "data": {
      "text/plain": [
       "belted        18465\n",
       "not_belted     7598\n",
       "Name: seatbelt, dtype: int64"
      ]
     },
     "execution_count": 58,
     "metadata": {},
     "output_type": "execute_result"
    }
   ],
   "source": [
    "# Change the values to reflect belted or not belted:\n",
    "crash_3['seatbelt'] = crash_3['seatbelt'].replace({'none':'not_belted'})\n",
    "belted = crash_3.seatbelt.value_counts()\n",
    "belted"
   ]
  },
  {
   "cell_type": "code",
   "execution_count": 59,
   "metadata": {},
   "outputs": [
    {
     "data": {
      "text/plain": [
       "1    16775\n",
       "0     9288\n",
       "Name: front_impact, dtype: int64"
      ]
     },
     "execution_count": 59,
     "metadata": {},
     "output_type": "execute_result"
    }
   ],
   "source": [
    "# Print out the seatbelt value counts:\n",
    "front = crash_3.front_impact.value_counts()\n",
    "front"
   ]
  },
  {
   "cell_type": "code",
   "execution_count": 23,
   "metadata": {},
   "outputs": [
    {
     "data": {
      "text/plain": [
       "1995.0    2026\n",
       "1997.0    1885\n",
       "1994.0    1832\n",
       "1996.0    1813\n",
       "1998.0    1809\n",
       "1993.0    1622\n",
       "1999.0    1568\n",
       "1992.0    1415\n",
       "1991.0    1406\n",
       "1989.0    1352\n",
       "1990.0    1317\n",
       "2000.0    1259\n",
       "1988.0    1239\n",
       "1987.0    1019\n",
       "1986.0     905\n",
       "2001.0     708\n",
       "1985.0     708\n",
       "1984.0     519\n",
       "2002.0     362\n",
       "1983.0     267\n",
       "1982.0     191\n",
       "1981.0     143\n",
       "1979.0     129\n",
       "1978.0     122\n",
       "1980.0     102\n",
       "1977.0      58\n",
       "1976.0      37\n",
       "1973.0      34\n",
       "2003.0      31\n",
       "1975.0      28\n",
       "1974.0      25\n",
       "1969.0      23\n",
       "1972.0      23\n",
       "1966.0      17\n",
       "1971.0      17\n",
       "1970.0      16\n",
       "1968.0      13\n",
       "1967.0       9\n",
       "1963.0       4\n",
       "1965.0       4\n",
       "1956.0       2\n",
       "1961.0       1\n",
       "1964.0       1\n",
       "1953.0       1\n",
       "1959.0       1\n",
       "Name: vehicle_year, dtype: int64"
      ]
     },
     "execution_count": 23,
     "metadata": {},
     "output_type": "execute_result"
    }
   ],
   "source": [
    "# Print out the vehicle_year value counts: \n",
    "year = crash_3.vehicle_year.value_counts()\n",
    "year"
   ]
  },
  {
   "cell_type": "code",
   "execution_count": 60,
   "metadata": {
    "scrolled": true
   },
   "outputs": [
    {
     "data": {
      "text/plain": [
       "vehicle_year\n",
       "1953.0       0\n",
       "1956.0       0\n",
       "1959.0       0\n",
       "1961.0       0\n",
       "1963.0       0\n",
       "1964.0       0\n",
       "1965.0       0\n",
       "1966.0       0\n",
       "1967.0       0\n",
       "1968.0       0\n",
       "1969.0       0\n",
       "1970.0       0\n",
       "1971.0       0\n",
       "1972.0       0\n",
       "1973.0       0\n",
       "1974.0       0\n",
       "1975.0       0\n",
       "1976.0       0\n",
       "1977.0       0\n",
       "1978.0       0\n",
       "1979.0       0\n",
       "1980.0       0\n",
       "1981.0       0\n",
       "1982.0       0\n",
       "1983.0       0\n",
       "1984.0       0\n",
       "1985.0       0\n",
       "1986.0       4\n",
       "1987.0       4\n",
       "1988.0      11\n",
       "1989.0      37\n",
       "1990.0     236\n",
       "1991.0     339\n",
       "1992.0     498\n",
       "1993.0     805\n",
       "1994.0    1217\n",
       "1995.0    1870\n",
       "1996.0    1752\n",
       "1997.0    1858\n",
       "1998.0    1800\n",
       "1999.0    1559\n",
       "2000.0    1249\n",
       "2001.0     704\n",
       "2002.0     362\n",
       "2003.0      31\n",
       "Name: airbag_available, dtype: int64"
      ]
     },
     "execution_count": 60,
     "metadata": {},
     "output_type": "execute_result"
    }
   ],
   "source": [
    "# See how many vahicles from each year have airbags installed:\n",
    "crash_3.airbag_available.eq('yes').astype(int).groupby(crash_3.vehicle_year).sum()"
   ]
  },
  {
   "cell_type": "code",
   "execution_count": 61,
   "metadata": {},
   "outputs": [
    {
     "data": {
      "text/plain": [
       "unavail     11727\n",
       "deploy       8799\n",
       "nodeploy     5537\n",
       "Name: airbag_deployment, dtype: int64"
      ]
     },
     "execution_count": 61,
     "metadata": {},
     "output_type": "execute_result"
    }
   ],
   "source": [
    "# Print out the vehicle_year value counts: \n",
    "deploy = crash_3.airbag_deployment.value_counts()\n",
    "deploy"
   ]
  }
 ],
 "metadata": {
  "kernelspec": {
   "display_name": "Python 3",
   "language": "python",
   "name": "python3"
  },
  "language_info": {
   "codemirror_mode": {
    "name": "ipython",
    "version": 3
   },
   "file_extension": ".py",
   "mimetype": "text/x-python",
   "name": "python",
   "nbconvert_exporter": "python",
   "pygments_lexer": "ipython3",
   "version": "3.7.7"
  }
 },
 "nbformat": 4,
 "nbformat_minor": 4
}
