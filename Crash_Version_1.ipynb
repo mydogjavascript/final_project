{
 "cells": [
  {
   "cell_type": "markdown",
   "metadata": {},
   "source": [
    "# Airbags and Other Influences on Accident Fatalities\n",
    "##### Description:\n",
    "* US data, for 1997-2002, from police-reported car crashes in which there is a harmful event (people or property),<br> and from which at least one vehicle was towed. Data are restricted to front-seat occupants, include only a subset<br> of the variables recorded, and are restricted in other ways also.\n",
    "##### dvcat\n",
    "* Ordered factor with levels (estimated impact speeds) 1-9km/h, 10-24, 25-39, 40-54, 55+\n",
    "##### weight\n",
    "* Observation weights, albeit of uncertain accuracy, designed to account for varying sampling probabilities.\n",
    "##### dead\n",
    "* Factor with levels alive dead\n",
    "##### airbag\n",
    "* A factor with levels none airbag\n",
    "##### seatbelt\n",
    "* A factor with levels none belted\n",
    "##### frontal\n",
    "* A numeric vector; 0 = non-frontal, 1=frontal impact\n",
    "##### sex\n",
    "* A factor with levels f m\n",
    "##### ageOFocc\n",
    "* Age of occupant in years\n",
    "##### yearacc\n",
    "* Year of accident\n",
    "##### yearVeh\n",
    "* Year of model of vehicle; a numeric vector\n",
    "##### abcat\n",
    "* Did one or more (driver or passenger) airbag(s) deploy? This factor has levels deploy nodeploy unavail\n",
    "##### occRole\n",
    "* A factor with levels driver pass\n",
    "##### deploy\n",
    "* A numeric vector: 0 if an airbag was unavailable or did not deploy; 1 if one or more bags deployed.\n",
    "##### injSeverity\n",
    "* A numeric vector: <br>0=None, 1=Possible Injury, 2=No Incapacity, 3=Incapacity, 4=Killed, 5=Unknown, 6=Prior Death\n",
    "##### caseid\n",
    "* A character created by pasting together the populations sampling unit, the case number, and the vehicle number.<br> Within each year, use this to uniquely identify the vehicle.\n",
    "\n"
   ]
  },
  {
   "cell_type": "markdown",
   "metadata": {},
   "source": [
    "# Import Dependencies / Machine Learning"
   ]
  },
  {
   "cell_type": "code",
   "execution_count": 38,
   "metadata": {},
   "outputs": [],
   "source": [
    "# Disable the python deprication warnings:\n",
    "import warnings\n",
    "warnings.filterwarnings('ignore')\n",
    "\n",
    "import numpy as np\n",
    "import pandas as pd"
   ]
  },
  {
   "cell_type": "code",
   "execution_count": 59,
   "metadata": {},
   "outputs": [],
   "source": [
    "from pathlib import Path\n",
    "from collections import Counter\n",
    "\n",
    "from sklearn.preprocessing import LabelEncoder\n",
    "from sklearn.model_selection import train_test_split\n",
    "from sklearn.linear_model import LogisticRegression\n",
    "from sklearn.metrics import accuracy_score"
   ]
  },
  {
   "cell_type": "markdown",
   "metadata": {},
   "source": [
    "# Import Dataset"
   ]
  },
  {
   "cell_type": "code",
   "execution_count": 3,
   "metadata": {
    "scrolled": false
   },
   "outputs": [
    {
     "data": {
      "text/html": [
       "<div>\n",
       "<style scoped>\n",
       "    .dataframe tbody tr th:only-of-type {\n",
       "        vertical-align: middle;\n",
       "    }\n",
       "\n",
       "    .dataframe tbody tr th {\n",
       "        vertical-align: top;\n",
       "    }\n",
       "\n",
       "    .dataframe thead th {\n",
       "        text-align: right;\n",
       "    }\n",
       "</style>\n",
       "<table border=\"1\" class=\"dataframe\">\n",
       "  <thead>\n",
       "    <tr style=\"text-align: right;\">\n",
       "      <th></th>\n",
       "      <th>dvcat</th>\n",
       "      <th>weight</th>\n",
       "      <th>dead</th>\n",
       "      <th>airbag</th>\n",
       "      <th>seatbelt</th>\n",
       "      <th>frontal</th>\n",
       "      <th>sex</th>\n",
       "      <th>ageOFocc</th>\n",
       "      <th>yearacc</th>\n",
       "      <th>yearVeh</th>\n",
       "      <th>abcat</th>\n",
       "      <th>occRole</th>\n",
       "      <th>deploy</th>\n",
       "      <th>injSeverity</th>\n",
       "      <th>caseid</th>\n",
       "    </tr>\n",
       "  </thead>\n",
       "  <tbody>\n",
       "    <tr>\n",
       "      <th>1</th>\n",
       "      <td>25-39</td>\n",
       "      <td>25.069</td>\n",
       "      <td>alive</td>\n",
       "      <td>none</td>\n",
       "      <td>belted</td>\n",
       "      <td>1</td>\n",
       "      <td>f</td>\n",
       "      <td>26</td>\n",
       "      <td>1997</td>\n",
       "      <td>1990.0</td>\n",
       "      <td>unavail</td>\n",
       "      <td>driver</td>\n",
       "      <td>0</td>\n",
       "      <td>3.0</td>\n",
       "      <td>2:3:1</td>\n",
       "    </tr>\n",
       "    <tr>\n",
       "      <th>2</th>\n",
       "      <td>10-24</td>\n",
       "      <td>25.069</td>\n",
       "      <td>alive</td>\n",
       "      <td>airbag</td>\n",
       "      <td>belted</td>\n",
       "      <td>1</td>\n",
       "      <td>f</td>\n",
       "      <td>72</td>\n",
       "      <td>1997</td>\n",
       "      <td>1995.0</td>\n",
       "      <td>deploy</td>\n",
       "      <td>driver</td>\n",
       "      <td>1</td>\n",
       "      <td>1.0</td>\n",
       "      <td>2:3:2</td>\n",
       "    </tr>\n",
       "    <tr>\n",
       "      <th>3</th>\n",
       "      <td>10-24</td>\n",
       "      <td>32.379</td>\n",
       "      <td>alive</td>\n",
       "      <td>none</td>\n",
       "      <td>none</td>\n",
       "      <td>1</td>\n",
       "      <td>f</td>\n",
       "      <td>69</td>\n",
       "      <td>1997</td>\n",
       "      <td>1988.0</td>\n",
       "      <td>unavail</td>\n",
       "      <td>driver</td>\n",
       "      <td>0</td>\n",
       "      <td>4.0</td>\n",
       "      <td>2:5:1</td>\n",
       "    </tr>\n",
       "    <tr>\n",
       "      <th>4</th>\n",
       "      <td>25-39</td>\n",
       "      <td>495.444</td>\n",
       "      <td>alive</td>\n",
       "      <td>airbag</td>\n",
       "      <td>belted</td>\n",
       "      <td>1</td>\n",
       "      <td>f</td>\n",
       "      <td>53</td>\n",
       "      <td>1997</td>\n",
       "      <td>1995.0</td>\n",
       "      <td>deploy</td>\n",
       "      <td>driver</td>\n",
       "      <td>1</td>\n",
       "      <td>1.0</td>\n",
       "      <td>2:10:1</td>\n",
       "    </tr>\n",
       "    <tr>\n",
       "      <th>5</th>\n",
       "      <td>25-39</td>\n",
       "      <td>25.069</td>\n",
       "      <td>alive</td>\n",
       "      <td>none</td>\n",
       "      <td>belted</td>\n",
       "      <td>1</td>\n",
       "      <td>f</td>\n",
       "      <td>32</td>\n",
       "      <td>1997</td>\n",
       "      <td>1988.0</td>\n",
       "      <td>unavail</td>\n",
       "      <td>driver</td>\n",
       "      <td>0</td>\n",
       "      <td>3.0</td>\n",
       "      <td>2:11:1</td>\n",
       "    </tr>\n",
       "  </tbody>\n",
       "</table>\n",
       "</div>"
      ],
      "text/plain": [
       "   dvcat   weight   dead  airbag seatbelt  frontal sex  ageOFocc  yearacc  \\\n",
       "1  25-39   25.069  alive    none   belted        1   f        26     1997   \n",
       "2  10-24   25.069  alive  airbag   belted        1   f        72     1997   \n",
       "3  10-24   32.379  alive    none     none        1   f        69     1997   \n",
       "4  25-39  495.444  alive  airbag   belted        1   f        53     1997   \n",
       "5  25-39   25.069  alive    none   belted        1   f        32     1997   \n",
       "\n",
       "   yearVeh    abcat occRole  deploy  injSeverity  caseid  \n",
       "1   1990.0  unavail  driver       0          3.0   2:3:1  \n",
       "2   1995.0   deploy  driver       1          1.0   2:3:2  \n",
       "3   1988.0  unavail  driver       0          4.0   2:5:1  \n",
       "4   1995.0   deploy  driver       1          1.0  2:10:1  \n",
       "5   1988.0  unavail  driver       0          3.0  2:11:1  "
      ]
     },
     "execution_count": 3,
     "metadata": {},
     "output_type": "execute_result"
    }
   ],
   "source": [
    "# Import the dataset from Google Drive:\n",
    "url = ('https://drive.google.com/file/d/1t3Z8Blgy2BPmBB4FqrQkC_jie9IwYuQb/view?usp=sharing')\n",
    "path = 'https://drive.google.com/uc?export=download&id='+url.split('/')[-2]\n",
    "crash_df = pd.read_csv(path,index_col=0)\n",
    "crash_df.head()"
   ]
  },
  {
   "cell_type": "markdown",
   "metadata": {},
   "source": [
    "# Initialize Dataset for Analysis"
   ]
  },
  {
   "cell_type": "code",
   "execution_count": 4,
   "metadata": {},
   "outputs": [
    {
     "data": {
      "text/html": [
       "<div>\n",
       "<style scoped>\n",
       "    .dataframe tbody tr th:only-of-type {\n",
       "        vertical-align: middle;\n",
       "    }\n",
       "\n",
       "    .dataframe tbody tr th {\n",
       "        vertical-align: top;\n",
       "    }\n",
       "\n",
       "    .dataframe thead th {\n",
       "        text-align: right;\n",
       "    }\n",
       "</style>\n",
       "<table border=\"1\" class=\"dataframe\">\n",
       "  <thead>\n",
       "    <tr style=\"text-align: right;\">\n",
       "      <th></th>\n",
       "      <th>est_impact_kmh</th>\n",
       "      <th>occupant_status</th>\n",
       "      <th>airbag</th>\n",
       "      <th>seatbelt</th>\n",
       "      <th>front_impact</th>\n",
       "      <th>occupant_age</th>\n",
       "      <th>vehicle_year</th>\n",
       "      <th>airbag_deployment</th>\n",
       "      <th>occupant_role</th>\n",
       "      <th>deployment</th>\n",
       "    </tr>\n",
       "  </thead>\n",
       "  <tbody>\n",
       "    <tr>\n",
       "      <th>1</th>\n",
       "      <td>25-39</td>\n",
       "      <td>alive</td>\n",
       "      <td>none</td>\n",
       "      <td>belted</td>\n",
       "      <td>1</td>\n",
       "      <td>26</td>\n",
       "      <td>1990.0</td>\n",
       "      <td>unavail</td>\n",
       "      <td>driver</td>\n",
       "      <td>0</td>\n",
       "    </tr>\n",
       "    <tr>\n",
       "      <th>2</th>\n",
       "      <td>10-24</td>\n",
       "      <td>alive</td>\n",
       "      <td>airbag</td>\n",
       "      <td>belted</td>\n",
       "      <td>1</td>\n",
       "      <td>72</td>\n",
       "      <td>1995.0</td>\n",
       "      <td>deploy</td>\n",
       "      <td>driver</td>\n",
       "      <td>1</td>\n",
       "    </tr>\n",
       "    <tr>\n",
       "      <th>3</th>\n",
       "      <td>10-24</td>\n",
       "      <td>alive</td>\n",
       "      <td>none</td>\n",
       "      <td>none</td>\n",
       "      <td>1</td>\n",
       "      <td>69</td>\n",
       "      <td>1988.0</td>\n",
       "      <td>unavail</td>\n",
       "      <td>driver</td>\n",
       "      <td>0</td>\n",
       "    </tr>\n",
       "    <tr>\n",
       "      <th>4</th>\n",
       "      <td>25-39</td>\n",
       "      <td>alive</td>\n",
       "      <td>airbag</td>\n",
       "      <td>belted</td>\n",
       "      <td>1</td>\n",
       "      <td>53</td>\n",
       "      <td>1995.0</td>\n",
       "      <td>deploy</td>\n",
       "      <td>driver</td>\n",
       "      <td>1</td>\n",
       "    </tr>\n",
       "    <tr>\n",
       "      <th>5</th>\n",
       "      <td>25-39</td>\n",
       "      <td>alive</td>\n",
       "      <td>none</td>\n",
       "      <td>belted</td>\n",
       "      <td>1</td>\n",
       "      <td>32</td>\n",
       "      <td>1988.0</td>\n",
       "      <td>unavail</td>\n",
       "      <td>driver</td>\n",
       "      <td>0</td>\n",
       "    </tr>\n",
       "  </tbody>\n",
       "</table>\n",
       "</div>"
      ],
      "text/plain": [
       "  est_impact_kmh occupant_status  airbag seatbelt  front_impact  occupant_age  \\\n",
       "1          25-39           alive    none   belted             1            26   \n",
       "2          10-24           alive  airbag   belted             1            72   \n",
       "3          10-24           alive    none     none             1            69   \n",
       "4          25-39           alive  airbag   belted             1            53   \n",
       "5          25-39           alive    none   belted             1            32   \n",
       "\n",
       "   vehicle_year airbag_deployment occupant_role  deployment  \n",
       "1        1990.0           unavail        driver           0  \n",
       "2        1995.0            deploy        driver           1  \n",
       "3        1988.0           unavail        driver           0  \n",
       "4        1995.0            deploy        driver           1  \n",
       "5        1988.0           unavail        driver           0  "
      ]
     },
     "execution_count": 4,
     "metadata": {},
     "output_type": "execute_result"
    }
   ],
   "source": [
    "# Remove unneeded columns:\n",
    "crash_v1 = crash_df.drop(['weight','injSeverity','yearacc','caseid','sex'], axis=1)\n",
    "\n",
    "# Rename the columns so they are easier to understand:\n",
    "crash_v1.rename(columns={'dvcat':'est_impact_kmh',\n",
    "                         'frontal':'front_impact',\n",
    "                         'ageOFocc':'occupant_age',\n",
    "                         'yearVeh':'vehicle_year',\n",
    "                         'abcat':'airbag_deployment',\n",
    "                         'occRole':'occupant_role',\n",
    "                         'deploy':'deployment',\n",
    "                         'dead':'occupant_status'},inplace=True)\n",
    "\n",
    "crash_v1.head()"
   ]
  },
  {
   "cell_type": "code",
   "execution_count": 5,
   "metadata": {
    "scrolled": false
   },
   "outputs": [
    {
     "name": "stdout",
     "output_type": "stream",
     "text": [
      "Column est_impact_kmh has 0    null values\n",
      "Column occupant_status has 0    null values\n",
      "Column airbag has 0    null values\n",
      "Column seatbelt has 0    null values\n",
      "Column front_impact has 0    null values\n",
      "Column occupant_age has 0    null values\n",
      "Column vehicle_year has 1    null values\n",
      "Column airbag_deployment has 0    null values\n",
      "Column occupant_role has 0    null values\n",
      "Column deployment has 0    null values\n"
     ]
    }
   ],
   "source": [
    "# Check the dataset for any null values:\n",
    "for column in crash_v1.columns:\n",
    "    print(f'Column {column} has {crash_v1[column].isnull().sum()}\\\n",
    "    null values')    "
   ]
  },
  {
   "cell_type": "code",
   "execution_count": 6,
   "metadata": {
    "scrolled": false
   },
   "outputs": [
    {
     "name": "stdout",
     "output_type": "stream",
     "text": [
      "Column est_impact_kmh has 0    null values\n",
      "Column occupant_status has 0    null values\n",
      "Column airbag has 0    null values\n",
      "Column seatbelt has 0    null values\n",
      "Column front_impact has 0    null values\n",
      "Column occupant_age has 0    null values\n",
      "Column vehicle_year has 0    null values\n",
      "Column airbag_deployment has 0    null values\n",
      "Column occupant_role has 0    null values\n",
      "Column deployment has 0    null values\n"
     ]
    }
   ],
   "source": [
    "# Drop the null row:\n",
    "crash_v2 = crash_v1.dropna()\n",
    "for column in crash_v2.columns:\n",
    "    print(f'Column {column} has {crash_v2[column].isnull().sum()}\\\n",
    "    null values')"
   ]
  },
  {
   "cell_type": "code",
   "execution_count": 7,
   "metadata": {
    "scrolled": true
   },
   "outputs": [
    {
     "data": {
      "text/plain": [
       "10-24      12847\n",
       "25-39       8214\n",
       "40-54       2977\n",
       "55+         1492\n",
       "1-9km/h      686\n",
       "Name: est_impact_kmh, dtype: int64"
      ]
     },
     "execution_count": 7,
     "metadata": {},
     "output_type": "execute_result"
    }
   ],
   "source": [
    "# Print out the est_impact_kmh value counts:\n",
    "impact = crash_v2.est_impact_kmh.value_counts()\n",
    "impact"
   ]
  },
  {
   "cell_type": "code",
   "execution_count": 8,
   "metadata": {
    "scrolled": true
   },
   "outputs": [
    {
     "data": {
      "text/plain": [
       "Under40    21747\n",
       "Over40      4469\n",
       "Name: est_impact_kmh, dtype: int64"
      ]
     },
     "execution_count": 8,
     "metadata": {},
     "output_type": "execute_result"
    }
   ],
   "source": [
    "# Rename catagories to form 'Under 40' & over 40 group:\n",
    "U = 'Under40'\n",
    "O = 'Over40'\n",
    "\n",
    "crash_v2['est_impact_kmh'] = crash_v2['est_impact_kmh'].replace({'1-9km/h':U,'10-24':U,'25-39':U})\n",
    "crash_v2['est_impact_kmh'] = crash_v2['est_impact_kmh'].replace({'40-54':O,'55+':O})\n",
    "\n",
    "# Print out the est_impact_kmh value counts:\n",
    "impact = crash_v2.est_impact_kmh.value_counts()\n",
    "impact"
   ]
  },
  {
   "cell_type": "code",
   "execution_count": 9,
   "metadata": {},
   "outputs": [
    {
     "data": {
      "text/html": [
       "<div>\n",
       "<style scoped>\n",
       "    .dataframe tbody tr th:only-of-type {\n",
       "        vertical-align: middle;\n",
       "    }\n",
       "\n",
       "    .dataframe tbody tr th {\n",
       "        vertical-align: top;\n",
       "    }\n",
       "\n",
       "    .dataframe thead th {\n",
       "        text-align: right;\n",
       "    }\n",
       "</style>\n",
       "<table border=\"1\" class=\"dataframe\">\n",
       "  <thead>\n",
       "    <tr style=\"text-align: right;\">\n",
       "      <th></th>\n",
       "      <th>est_impact_kmh</th>\n",
       "      <th>occupant_status</th>\n",
       "      <th>airbag</th>\n",
       "      <th>seatbelt</th>\n",
       "      <th>front_impact</th>\n",
       "      <th>occupant_age</th>\n",
       "      <th>vehicle_year</th>\n",
       "      <th>airbag_deployment</th>\n",
       "      <th>occupant_role</th>\n",
       "      <th>deployment</th>\n",
       "    </tr>\n",
       "  </thead>\n",
       "  <tbody>\n",
       "    <tr>\n",
       "      <th>1</th>\n",
       "      <td>Under40</td>\n",
       "      <td>alive</td>\n",
       "      <td>none</td>\n",
       "      <td>belted</td>\n",
       "      <td>1</td>\n",
       "      <td>26</td>\n",
       "      <td>1990.0</td>\n",
       "      <td>unavail</td>\n",
       "      <td>driver</td>\n",
       "      <td>0</td>\n",
       "    </tr>\n",
       "    <tr>\n",
       "      <th>2</th>\n",
       "      <td>Under40</td>\n",
       "      <td>alive</td>\n",
       "      <td>airbag</td>\n",
       "      <td>belted</td>\n",
       "      <td>1</td>\n",
       "      <td>72</td>\n",
       "      <td>1995.0</td>\n",
       "      <td>deploy</td>\n",
       "      <td>driver</td>\n",
       "      <td>1</td>\n",
       "    </tr>\n",
       "    <tr>\n",
       "      <th>3</th>\n",
       "      <td>Under40</td>\n",
       "      <td>alive</td>\n",
       "      <td>none</td>\n",
       "      <td>none</td>\n",
       "      <td>1</td>\n",
       "      <td>69</td>\n",
       "      <td>1988.0</td>\n",
       "      <td>unavail</td>\n",
       "      <td>driver</td>\n",
       "      <td>0</td>\n",
       "    </tr>\n",
       "    <tr>\n",
       "      <th>4</th>\n",
       "      <td>Under40</td>\n",
       "      <td>alive</td>\n",
       "      <td>airbag</td>\n",
       "      <td>belted</td>\n",
       "      <td>1</td>\n",
       "      <td>53</td>\n",
       "      <td>1995.0</td>\n",
       "      <td>deploy</td>\n",
       "      <td>driver</td>\n",
       "      <td>1</td>\n",
       "    </tr>\n",
       "    <tr>\n",
       "      <th>5</th>\n",
       "      <td>Under40</td>\n",
       "      <td>alive</td>\n",
       "      <td>none</td>\n",
       "      <td>belted</td>\n",
       "      <td>1</td>\n",
       "      <td>32</td>\n",
       "      <td>1988.0</td>\n",
       "      <td>unavail</td>\n",
       "      <td>driver</td>\n",
       "      <td>0</td>\n",
       "    </tr>\n",
       "  </tbody>\n",
       "</table>\n",
       "</div>"
      ],
      "text/plain": [
       "  est_impact_kmh occupant_status  airbag seatbelt  front_impact  occupant_age  \\\n",
       "1        Under40           alive    none   belted             1            26   \n",
       "2        Under40           alive  airbag   belted             1            72   \n",
       "3        Under40           alive    none     none             1            69   \n",
       "4        Under40           alive  airbag   belted             1            53   \n",
       "5        Under40           alive    none   belted             1            32   \n",
       "\n",
       "   vehicle_year airbag_deployment occupant_role  deployment  \n",
       "1        1990.0           unavail        driver           0  \n",
       "2        1995.0            deploy        driver           1  \n",
       "3        1988.0           unavail        driver           0  \n",
       "4        1995.0            deploy        driver           1  \n",
       "5        1988.0           unavail        driver           0  "
      ]
     },
     "execution_count": 9,
     "metadata": {},
     "output_type": "execute_result"
    }
   ],
   "source": [
    "crash_v2.head()"
   ]
  },
  {
   "cell_type": "code",
   "execution_count": 10,
   "metadata": {
    "scrolled": false
   },
   "outputs": [
    {
     "data": {
      "text/plain": [
       "alive    25036\n",
       "dead      1180\n",
       "Name: occupant_status, dtype: int64"
      ]
     },
     "execution_count": 10,
     "metadata": {},
     "output_type": "execute_result"
    }
   ],
   "source": [
    "# Print out the occupant_status value counts:\n",
    "survive = crash_v2.occupant_status.value_counts()\n",
    "survive"
   ]
  },
  {
   "cell_type": "code",
   "execution_count": 11,
   "metadata": {},
   "outputs": [
    {
     "data": {
      "text/plain": [
       "airbag    14418\n",
       "none      11798\n",
       "Name: airbag, dtype: int64"
      ]
     },
     "execution_count": 11,
     "metadata": {},
     "output_type": "execute_result"
    }
   ],
   "source": [
    "# Print out the airbag value counts:\n",
    "airbag = crash_v2.airbag.value_counts()\n",
    "airbag"
   ]
  },
  {
   "cell_type": "code",
   "execution_count": 12,
   "metadata": {},
   "outputs": [
    {
     "data": {
      "text/plain": [
       "installed        14418\n",
       "not installed    11798\n",
       "Name: airbag, dtype: int64"
      ]
     },
     "execution_count": 12,
     "metadata": {},
     "output_type": "execute_result"
    }
   ],
   "source": [
    "# Change the values to reflect installed or not installed:\n",
    "crash_v2['airbag'] = crash_v2['airbag'].replace({'airbag':'installed','none':'not installed'})\n",
    "installed = crash_v2.airbag.value_counts()\n",
    "installed"
   ]
  },
  {
   "cell_type": "code",
   "execution_count": 13,
   "metadata": {},
   "outputs": [
    {
     "data": {
      "text/plain": [
       "belted    18572\n",
       "none       7644\n",
       "Name: seatbelt, dtype: int64"
      ]
     },
     "execution_count": 13,
     "metadata": {},
     "output_type": "execute_result"
    }
   ],
   "source": [
    "# Print out the seatbelt value counts:\n",
    "seatbelt = crash_v2.seatbelt.value_counts()\n",
    "seatbelt"
   ]
  },
  {
   "cell_type": "code",
   "execution_count": 14,
   "metadata": {},
   "outputs": [
    {
     "data": {
      "text/plain": [
       "belted        18572\n",
       "not_belted     7644\n",
       "Name: seatbelt, dtype: int64"
      ]
     },
     "execution_count": 14,
     "metadata": {},
     "output_type": "execute_result"
    }
   ],
   "source": [
    "# Change the values to reflect installed or not installed:\n",
    "crash_v2['seatbelt'] = crash_v2['seatbelt'].replace({'none':'not_belted'})\n",
    "belted = crash_v2.seatbelt.value_counts()\n",
    "belted"
   ]
  },
  {
   "cell_type": "code",
   "execution_count": 15,
   "metadata": {},
   "outputs": [
    {
     "data": {
      "text/plain": [
       "1    16865\n",
       "0     9351\n",
       "Name: front_impact, dtype: int64"
      ]
     },
     "execution_count": 15,
     "metadata": {},
     "output_type": "execute_result"
    }
   ],
   "source": [
    "# Print out the seatbelt value counts:\n",
    "front = crash_v2.front_impact.value_counts()\n",
    "front"
   ]
  },
  {
   "cell_type": "code",
   "execution_count": 26,
   "metadata": {
    "collapsed": true
   },
   "outputs": [
    {
     "data": {
      "text/plain": [
       "1995.0    2037\n",
       "1997.0    1895\n",
       "1994.0    1842\n",
       "1998.0    1821\n",
       "1996.0    1820\n",
       "1993.0    1633\n",
       "1999.0    1588\n",
       "1992.0    1420\n",
       "1991.0    1412\n",
       "1989.0    1358\n",
       "1990.0    1320\n",
       "2000.0    1265\n",
       "1988.0    1247\n",
       "1987.0    1026\n",
       "1986.0     908\n",
       "1985.0     712\n",
       "2001.0     710\n",
       "1984.0     524\n",
       "2002.0     367\n",
       "1983.0     270\n",
       "1982.0     192\n",
       "1981.0     145\n",
       "1979.0     129\n",
       "1978.0     123\n",
       "1980.0     104\n",
       "1977.0      60\n",
       "1976.0      37\n",
       "1973.0      34\n",
       "2003.0      31\n",
       "1975.0      28\n",
       "1974.0      25\n",
       "1972.0      23\n",
       "1969.0      23\n",
       "1970.0      17\n",
       "1971.0      17\n",
       "1966.0      17\n",
       "1968.0      13\n",
       "1967.0       9\n",
       "1963.0       4\n",
       "1965.0       4\n",
       "1956.0       2\n",
       "1961.0       1\n",
       "1964.0       1\n",
       "1953.0       1\n",
       "1959.0       1\n",
       "Name: vehicle_year, dtype: int64"
      ]
     },
     "execution_count": 26,
     "metadata": {},
     "output_type": "execute_result"
    }
   ],
   "source": [
    "# Print out the vehicle_year value counts: \n",
    "year = crash_v2.vehicle_year.value_counts()\n",
    "year"
   ]
  },
  {
   "cell_type": "code",
   "execution_count": 27,
   "metadata": {},
   "outputs": [
    {
     "data": {
      "text/plain": [
       "unavail     11798\n",
       "deploy       8835\n",
       "nodeploy     5583\n",
       "Name: airbag_deployment, dtype: int64"
      ]
     },
     "execution_count": 27,
     "metadata": {},
     "output_type": "execute_result"
    }
   ],
   "source": [
    "# Print out the vehicle_year value counts: \n",
    "deploy = crash_v2.airbag_deployment.value_counts()\n",
    "deploy"
   ]
  },
  {
   "cell_type": "code",
   "execution_count": 30,
   "metadata": {
    "scrolled": true
   },
   "outputs": [
    {
     "data": {
      "text/html": [
       "<div>\n",
       "<style scoped>\n",
       "    .dataframe tbody tr th:only-of-type {\n",
       "        vertical-align: middle;\n",
       "    }\n",
       "\n",
       "    .dataframe tbody tr th {\n",
       "        vertical-align: top;\n",
       "    }\n",
       "\n",
       "    .dataframe thead th {\n",
       "        text-align: right;\n",
       "    }\n",
       "</style>\n",
       "<table border=\"1\" class=\"dataframe\">\n",
       "  <thead>\n",
       "    <tr style=\"text-align: right;\">\n",
       "      <th></th>\n",
       "      <th>est_impact_kmh</th>\n",
       "      <th>occupant_status</th>\n",
       "      <th>airbag</th>\n",
       "      <th>seatbelt</th>\n",
       "      <th>front_impact</th>\n",
       "      <th>occupant_age</th>\n",
       "      <th>vehicle_year</th>\n",
       "      <th>airbag_deployment</th>\n",
       "      <th>occupant_role</th>\n",
       "      <th>deployment</th>\n",
       "    </tr>\n",
       "  </thead>\n",
       "  <tbody>\n",
       "    <tr>\n",
       "      <th>2</th>\n",
       "      <td>Under40</td>\n",
       "      <td>alive</td>\n",
       "      <td>installed</td>\n",
       "      <td>belted</td>\n",
       "      <td>1</td>\n",
       "      <td>72</td>\n",
       "      <td>1995.0</td>\n",
       "      <td>deploy</td>\n",
       "      <td>driver</td>\n",
       "      <td>1</td>\n",
       "    </tr>\n",
       "    <tr>\n",
       "      <th>4</th>\n",
       "      <td>Under40</td>\n",
       "      <td>alive</td>\n",
       "      <td>installed</td>\n",
       "      <td>belted</td>\n",
       "      <td>1</td>\n",
       "      <td>53</td>\n",
       "      <td>1995.0</td>\n",
       "      <td>deploy</td>\n",
       "      <td>driver</td>\n",
       "      <td>1</td>\n",
       "    </tr>\n",
       "    <tr>\n",
       "      <th>13</th>\n",
       "      <td>Under40</td>\n",
       "      <td>alive</td>\n",
       "      <td>installed</td>\n",
       "      <td>belted</td>\n",
       "      <td>1</td>\n",
       "      <td>67</td>\n",
       "      <td>1991.0</td>\n",
       "      <td>deploy</td>\n",
       "      <td>driver</td>\n",
       "      <td>1</td>\n",
       "    </tr>\n",
       "    <tr>\n",
       "      <th>14</th>\n",
       "      <td>Under40</td>\n",
       "      <td>dead</td>\n",
       "      <td>installed</td>\n",
       "      <td>belted</td>\n",
       "      <td>0</td>\n",
       "      <td>54</td>\n",
       "      <td>1994.0</td>\n",
       "      <td>nodeploy</td>\n",
       "      <td>driver</td>\n",
       "      <td>0</td>\n",
       "    </tr>\n",
       "    <tr>\n",
       "      <th>19</th>\n",
       "      <td>Under40</td>\n",
       "      <td>alive</td>\n",
       "      <td>installed</td>\n",
       "      <td>belted</td>\n",
       "      <td>0</td>\n",
       "      <td>33</td>\n",
       "      <td>1995.0</td>\n",
       "      <td>nodeploy</td>\n",
       "      <td>driver</td>\n",
       "      <td>0</td>\n",
       "    </tr>\n",
       "  </tbody>\n",
       "</table>\n",
       "</div>"
      ],
      "text/plain": [
       "   est_impact_kmh occupant_status     airbag seatbelt  front_impact  \\\n",
       "2         Under40           alive  installed   belted             1   \n",
       "4         Under40           alive  installed   belted             1   \n",
       "13        Under40           alive  installed   belted             1   \n",
       "14        Under40            dead  installed   belted             0   \n",
       "19        Under40           alive  installed   belted             0   \n",
       "\n",
       "    occupant_age  vehicle_year airbag_deployment occupant_role  deployment  \n",
       "2             72        1995.0            deploy        driver           1  \n",
       "4             53        1995.0            deploy        driver           1  \n",
       "13            67        1991.0            deploy        driver           1  \n",
       "14            54        1994.0          nodeploy        driver           0  \n",
       "19            33        1995.0          nodeploy        driver           0  "
      ]
     },
     "execution_count": 30,
     "metadata": {},
     "output_type": "execute_result"
    }
   ],
   "source": [
    "# Remove all crashes where the airbags were not available:\n",
    "unavailable = crash_v2[crash_v2['airbag_deployment'] == 'unavail'].index\n",
    "crash_v2.drop(unavailable, inplace=True)\n",
    "crash_v2.head()"
   ]
  },
  {
   "cell_type": "code",
   "execution_count": 33,
   "metadata": {},
   "outputs": [
    {
     "data": {
      "text/plain": [
       "deploy      8835\n",
       "nodeploy    5583\n",
       "Name: airbag_deployment, dtype: int64"
      ]
     },
     "execution_count": 33,
     "metadata": {},
     "output_type": "execute_result"
    }
   ],
   "source": [
    "# Verify 'unavail' has been removed from the airbag_deployment column: \n",
    "unavail_removed = crash_v2.airbag_deployment.value_counts()\n",
    "unavail_removed"
   ]
  },
  {
   "cell_type": "code",
   "execution_count": 32,
   "metadata": {},
   "outputs": [
    {
     "data": {
      "text/plain": [
       "driver    11729\n",
       "pass       2689\n",
       "Name: occupant_role, dtype: int64"
      ]
     },
     "execution_count": 32,
     "metadata": {},
     "output_type": "execute_result"
    }
   ],
   "source": [
    "# Print out the occupant_role value counts: \n",
    "occupant = crash_v2.occupant_role.value_counts()\n",
    "occupant"
   ]
  },
  {
   "cell_type": "code",
   "execution_count": 35,
   "metadata": {},
   "outputs": [
    {
     "data": {
      "text/html": [
       "<div>\n",
       "<style scoped>\n",
       "    .dataframe tbody tr th:only-of-type {\n",
       "        vertical-align: middle;\n",
       "    }\n",
       "\n",
       "    .dataframe tbody tr th {\n",
       "        vertical-align: top;\n",
       "    }\n",
       "\n",
       "    .dataframe thead th {\n",
       "        text-align: right;\n",
       "    }\n",
       "</style>\n",
       "<table border=\"1\" class=\"dataframe\">\n",
       "  <thead>\n",
       "    <tr style=\"text-align: right;\">\n",
       "      <th></th>\n",
       "      <th>est_impact_kmh</th>\n",
       "      <th>occupant_status</th>\n",
       "      <th>airbag</th>\n",
       "      <th>seatbelt</th>\n",
       "      <th>front_impact</th>\n",
       "      <th>occupant_age</th>\n",
       "      <th>vehicle_year</th>\n",
       "      <th>airbag_deployment</th>\n",
       "      <th>occupant_role</th>\n",
       "      <th>deployment</th>\n",
       "    </tr>\n",
       "  </thead>\n",
       "  <tbody>\n",
       "    <tr>\n",
       "      <th>2</th>\n",
       "      <td>Under40</td>\n",
       "      <td>alive</td>\n",
       "      <td>installed</td>\n",
       "      <td>belted</td>\n",
       "      <td>1</td>\n",
       "      <td>72</td>\n",
       "      <td>1995.0</td>\n",
       "      <td>deploy</td>\n",
       "      <td>driver</td>\n",
       "      <td>1</td>\n",
       "    </tr>\n",
       "    <tr>\n",
       "      <th>4</th>\n",
       "      <td>Under40</td>\n",
       "      <td>alive</td>\n",
       "      <td>installed</td>\n",
       "      <td>belted</td>\n",
       "      <td>1</td>\n",
       "      <td>53</td>\n",
       "      <td>1995.0</td>\n",
       "      <td>deploy</td>\n",
       "      <td>driver</td>\n",
       "      <td>1</td>\n",
       "    </tr>\n",
       "    <tr>\n",
       "      <th>13</th>\n",
       "      <td>Under40</td>\n",
       "      <td>alive</td>\n",
       "      <td>installed</td>\n",
       "      <td>belted</td>\n",
       "      <td>1</td>\n",
       "      <td>67</td>\n",
       "      <td>1991.0</td>\n",
       "      <td>deploy</td>\n",
       "      <td>driver</td>\n",
       "      <td>1</td>\n",
       "    </tr>\n",
       "    <tr>\n",
       "      <th>14</th>\n",
       "      <td>Under40</td>\n",
       "      <td>dead</td>\n",
       "      <td>installed</td>\n",
       "      <td>belted</td>\n",
       "      <td>0</td>\n",
       "      <td>54</td>\n",
       "      <td>1994.0</td>\n",
       "      <td>nodeploy</td>\n",
       "      <td>driver</td>\n",
       "      <td>0</td>\n",
       "    </tr>\n",
       "    <tr>\n",
       "      <th>19</th>\n",
       "      <td>Under40</td>\n",
       "      <td>alive</td>\n",
       "      <td>installed</td>\n",
       "      <td>belted</td>\n",
       "      <td>0</td>\n",
       "      <td>33</td>\n",
       "      <td>1995.0</td>\n",
       "      <td>nodeploy</td>\n",
       "      <td>driver</td>\n",
       "      <td>0</td>\n",
       "    </tr>\n",
       "  </tbody>\n",
       "</table>\n",
       "</div>"
      ],
      "text/plain": [
       "   est_impact_kmh occupant_status     airbag seatbelt  front_impact  \\\n",
       "2         Under40           alive  installed   belted             1   \n",
       "4         Under40           alive  installed   belted             1   \n",
       "13        Under40           alive  installed   belted             1   \n",
       "14        Under40            dead  installed   belted             0   \n",
       "19        Under40           alive  installed   belted             0   \n",
       "\n",
       "    occupant_age  vehicle_year airbag_deployment occupant_role  deployment  \n",
       "2             72        1995.0            deploy        driver           1  \n",
       "4             53        1995.0            deploy        driver           1  \n",
       "13            67        1991.0            deploy        driver           1  \n",
       "14            54        1994.0          nodeploy        driver           0  \n",
       "19            33        1995.0          nodeploy        driver           0  "
      ]
     },
     "execution_count": 35,
     "metadata": {},
     "output_type": "execute_result"
    }
   ],
   "source": [
    "# Create a new database with just car years 1990 and newer:\n",
    "crash_v3 = crash_v2.loc[crash_v2['vehicle_year'] >= 1990]\n",
    "crash_v3.head()"
   ]
  },
  {
   "cell_type": "code",
   "execution_count": 36,
   "metadata": {
    "scrolled": true
   },
   "outputs": [
    {
     "data": {
      "text/html": [
       "<div>\n",
       "<style scoped>\n",
       "    .dataframe tbody tr th:only-of-type {\n",
       "        vertical-align: middle;\n",
       "    }\n",
       "\n",
       "    .dataframe tbody tr th {\n",
       "        vertical-align: top;\n",
       "    }\n",
       "\n",
       "    .dataframe thead th {\n",
       "        text-align: right;\n",
       "    }\n",
       "</style>\n",
       "<table border=\"1\" class=\"dataframe\">\n",
       "  <thead>\n",
       "    <tr style=\"text-align: right;\">\n",
       "      <th></th>\n",
       "      <th>est_impact_kmh</th>\n",
       "      <th>occupant_status</th>\n",
       "      <th>airbag</th>\n",
       "      <th>seatbelt</th>\n",
       "      <th>front_impact</th>\n",
       "      <th>occupant_age</th>\n",
       "      <th>vehicle_year</th>\n",
       "      <th>airbag_deployment</th>\n",
       "      <th>occupant_role</th>\n",
       "      <th>deployment</th>\n",
       "    </tr>\n",
       "  </thead>\n",
       "  <tbody>\n",
       "    <tr>\n",
       "      <th>2</th>\n",
       "      <td>Under40</td>\n",
       "      <td>alive</td>\n",
       "      <td>installed</td>\n",
       "      <td>belted</td>\n",
       "      <td>1</td>\n",
       "      <td>72</td>\n",
       "      <td>1995.0</td>\n",
       "      <td>deploy</td>\n",
       "      <td>driver</td>\n",
       "      <td>1</td>\n",
       "    </tr>\n",
       "    <tr>\n",
       "      <th>4</th>\n",
       "      <td>Under40</td>\n",
       "      <td>alive</td>\n",
       "      <td>installed</td>\n",
       "      <td>belted</td>\n",
       "      <td>1</td>\n",
       "      <td>53</td>\n",
       "      <td>1995.0</td>\n",
       "      <td>deploy</td>\n",
       "      <td>driver</td>\n",
       "      <td>1</td>\n",
       "    </tr>\n",
       "    <tr>\n",
       "      <th>13</th>\n",
       "      <td>Under40</td>\n",
       "      <td>alive</td>\n",
       "      <td>installed</td>\n",
       "      <td>belted</td>\n",
       "      <td>1</td>\n",
       "      <td>67</td>\n",
       "      <td>1991.0</td>\n",
       "      <td>deploy</td>\n",
       "      <td>driver</td>\n",
       "      <td>1</td>\n",
       "    </tr>\n",
       "    <tr>\n",
       "      <th>21</th>\n",
       "      <td>Under40</td>\n",
       "      <td>alive</td>\n",
       "      <td>installed</td>\n",
       "      <td>not_belted</td>\n",
       "      <td>1</td>\n",
       "      <td>20</td>\n",
       "      <td>1995.0</td>\n",
       "      <td>deploy</td>\n",
       "      <td>driver</td>\n",
       "      <td>1</td>\n",
       "    </tr>\n",
       "    <tr>\n",
       "      <th>25</th>\n",
       "      <td>Under40</td>\n",
       "      <td>alive</td>\n",
       "      <td>installed</td>\n",
       "      <td>belted</td>\n",
       "      <td>1</td>\n",
       "      <td>23</td>\n",
       "      <td>1995.0</td>\n",
       "      <td>deploy</td>\n",
       "      <td>driver</td>\n",
       "      <td>1</td>\n",
       "    </tr>\n",
       "  </tbody>\n",
       "</table>\n",
       "</div>"
      ],
      "text/plain": [
       "   est_impact_kmh occupant_status     airbag    seatbelt  front_impact  \\\n",
       "2         Under40           alive  installed      belted             1   \n",
       "4         Under40           alive  installed      belted             1   \n",
       "13        Under40           alive  installed      belted             1   \n",
       "21        Under40           alive  installed  not_belted             1   \n",
       "25        Under40           alive  installed      belted             1   \n",
       "\n",
       "    occupant_age  vehicle_year airbag_deployment occupant_role  deployment  \n",
       "2             72        1995.0            deploy        driver           1  \n",
       "4             53        1995.0            deploy        driver           1  \n",
       "13            67        1991.0            deploy        driver           1  \n",
       "21            20        1995.0            deploy        driver           1  \n",
       "25            23        1995.0            deploy        driver           1  "
      ]
     },
     "execution_count": 36,
     "metadata": {},
     "output_type": "execute_result"
    }
   ],
   "source": [
    "# Create a new database with just front impact crashes:\n",
    "crash_v4 = crash_v2.loc[crash_v2['front_impact'] == 1]\n",
    "crash_v4.head()"
   ]
  },
  {
   "cell_type": "code",
   "execution_count": 45,
   "metadata": {
    "scrolled": true
   },
   "outputs": [
    {
     "data": {
      "text/html": [
       "<div>\n",
       "<style scoped>\n",
       "    .dataframe tbody tr th:only-of-type {\n",
       "        vertical-align: middle;\n",
       "    }\n",
       "\n",
       "    .dataframe tbody tr th {\n",
       "        vertical-align: top;\n",
       "    }\n",
       "\n",
       "    .dataframe thead th {\n",
       "        text-align: right;\n",
       "    }\n",
       "</style>\n",
       "<table border=\"1\" class=\"dataframe\">\n",
       "  <thead>\n",
       "    <tr style=\"text-align: right;\">\n",
       "      <th></th>\n",
       "      <th>est_impact_kmh</th>\n",
       "      <th>occupant_status</th>\n",
       "      <th>airbag</th>\n",
       "      <th>seatbelt</th>\n",
       "      <th>occupant_age</th>\n",
       "      <th>vehicle_year</th>\n",
       "      <th>airbag_deployment</th>\n",
       "      <th>occupant_role</th>\n",
       "      <th>deployment</th>\n",
       "    </tr>\n",
       "  </thead>\n",
       "  <tbody>\n",
       "    <tr>\n",
       "      <th>2</th>\n",
       "      <td>Under40</td>\n",
       "      <td>alive</td>\n",
       "      <td>installed</td>\n",
       "      <td>belted</td>\n",
       "      <td>72</td>\n",
       "      <td>1995.0</td>\n",
       "      <td>deploy</td>\n",
       "      <td>driver</td>\n",
       "      <td>1</td>\n",
       "    </tr>\n",
       "    <tr>\n",
       "      <th>4</th>\n",
       "      <td>Under40</td>\n",
       "      <td>alive</td>\n",
       "      <td>installed</td>\n",
       "      <td>belted</td>\n",
       "      <td>53</td>\n",
       "      <td>1995.0</td>\n",
       "      <td>deploy</td>\n",
       "      <td>driver</td>\n",
       "      <td>1</td>\n",
       "    </tr>\n",
       "    <tr>\n",
       "      <th>13</th>\n",
       "      <td>Under40</td>\n",
       "      <td>alive</td>\n",
       "      <td>installed</td>\n",
       "      <td>belted</td>\n",
       "      <td>67</td>\n",
       "      <td>1991.0</td>\n",
       "      <td>deploy</td>\n",
       "      <td>driver</td>\n",
       "      <td>1</td>\n",
       "    </tr>\n",
       "    <tr>\n",
       "      <th>21</th>\n",
       "      <td>Under40</td>\n",
       "      <td>alive</td>\n",
       "      <td>installed</td>\n",
       "      <td>not_belted</td>\n",
       "      <td>20</td>\n",
       "      <td>1995.0</td>\n",
       "      <td>deploy</td>\n",
       "      <td>driver</td>\n",
       "      <td>1</td>\n",
       "    </tr>\n",
       "    <tr>\n",
       "      <th>25</th>\n",
       "      <td>Under40</td>\n",
       "      <td>alive</td>\n",
       "      <td>installed</td>\n",
       "      <td>belted</td>\n",
       "      <td>23</td>\n",
       "      <td>1995.0</td>\n",
       "      <td>deploy</td>\n",
       "      <td>driver</td>\n",
       "      <td>1</td>\n",
       "    </tr>\n",
       "  </tbody>\n",
       "</table>\n",
       "</div>"
      ],
      "text/plain": [
       "   est_impact_kmh occupant_status     airbag    seatbelt  occupant_age  \\\n",
       "2         Under40           alive  installed      belted            72   \n",
       "4         Under40           alive  installed      belted            53   \n",
       "13        Under40           alive  installed      belted            67   \n",
       "21        Under40           alive  installed  not_belted            20   \n",
       "25        Under40           alive  installed      belted            23   \n",
       "\n",
       "    vehicle_year airbag_deployment occupant_role  deployment  \n",
       "2         1995.0            deploy        driver           1  \n",
       "4         1995.0            deploy        driver           1  \n",
       "13        1991.0            deploy        driver           1  \n",
       "21        1995.0            deploy        driver           1  \n",
       "25        1995.0            deploy        driver           1  "
      ]
     },
     "execution_count": 45,
     "metadata": {},
     "output_type": "execute_result"
    }
   ],
   "source": [
    "# Delete the front_impact column:\n",
    "crash_v5 = crash_v4.drop(['front_impact'], axis=1)\n",
    "crash_v5.head()"
   ]
  },
  {
   "cell_type": "code",
   "execution_count": 46,
   "metadata": {},
   "outputs": [
    {
     "data": {
      "text/plain": [
       "alive    8659\n",
       "dead      216\n",
       "Name: occupant_status, dtype: int64"
      ]
     },
     "execution_count": 46,
     "metadata": {},
     "output_type": "execute_result"
    }
   ],
   "source": [
    "# Print out the occupant_status value counts:\n",
    "survive2 = crash_v5.occupant_status.value_counts()\n",
    "survive2"
   ]
  },
  {
   "cell_type": "markdown",
   "metadata": {},
   "source": [
    "# Integer Encoding"
   ]
  },
  {
   "cell_type": "code",
   "execution_count": 47,
   "metadata": {
    "scrolled": true
   },
   "outputs": [
    {
     "data": {
      "text/html": [
       "<div>\n",
       "<style scoped>\n",
       "    .dataframe tbody tr th:only-of-type {\n",
       "        vertical-align: middle;\n",
       "    }\n",
       "\n",
       "    .dataframe tbody tr th {\n",
       "        vertical-align: top;\n",
       "    }\n",
       "\n",
       "    .dataframe thead th {\n",
       "        text-align: right;\n",
       "    }\n",
       "</style>\n",
       "<table border=\"1\" class=\"dataframe\">\n",
       "  <thead>\n",
       "    <tr style=\"text-align: right;\">\n",
       "      <th></th>\n",
       "      <th>est_impact_kmh</th>\n",
       "      <th>occupant_status</th>\n",
       "      <th>airbag</th>\n",
       "      <th>seatbelt</th>\n",
       "      <th>occupant_age</th>\n",
       "      <th>vehicle_year</th>\n",
       "      <th>airbag_deployment</th>\n",
       "      <th>occupant_role</th>\n",
       "      <th>deployment</th>\n",
       "    </tr>\n",
       "  </thead>\n",
       "  <tbody>\n",
       "    <tr>\n",
       "      <th>2</th>\n",
       "      <td>1</td>\n",
       "      <td>0</td>\n",
       "      <td>0</td>\n",
       "      <td>0</td>\n",
       "      <td>72</td>\n",
       "      <td>1995.0</td>\n",
       "      <td>0</td>\n",
       "      <td>0</td>\n",
       "      <td>1</td>\n",
       "    </tr>\n",
       "    <tr>\n",
       "      <th>4</th>\n",
       "      <td>1</td>\n",
       "      <td>0</td>\n",
       "      <td>0</td>\n",
       "      <td>0</td>\n",
       "      <td>53</td>\n",
       "      <td>1995.0</td>\n",
       "      <td>0</td>\n",
       "      <td>0</td>\n",
       "      <td>1</td>\n",
       "    </tr>\n",
       "    <tr>\n",
       "      <th>13</th>\n",
       "      <td>1</td>\n",
       "      <td>0</td>\n",
       "      <td>0</td>\n",
       "      <td>0</td>\n",
       "      <td>67</td>\n",
       "      <td>1991.0</td>\n",
       "      <td>0</td>\n",
       "      <td>0</td>\n",
       "      <td>1</td>\n",
       "    </tr>\n",
       "    <tr>\n",
       "      <th>21</th>\n",
       "      <td>1</td>\n",
       "      <td>0</td>\n",
       "      <td>0</td>\n",
       "      <td>1</td>\n",
       "      <td>20</td>\n",
       "      <td>1995.0</td>\n",
       "      <td>0</td>\n",
       "      <td>0</td>\n",
       "      <td>1</td>\n",
       "    </tr>\n",
       "    <tr>\n",
       "      <th>25</th>\n",
       "      <td>1</td>\n",
       "      <td>0</td>\n",
       "      <td>0</td>\n",
       "      <td>0</td>\n",
       "      <td>23</td>\n",
       "      <td>1995.0</td>\n",
       "      <td>0</td>\n",
       "      <td>0</td>\n",
       "      <td>1</td>\n",
       "    </tr>\n",
       "  </tbody>\n",
       "</table>\n",
       "</div>"
      ],
      "text/plain": [
       "    est_impact_kmh  occupant_status  airbag  seatbelt  occupant_age  \\\n",
       "2                1                0       0         0            72   \n",
       "4                1                0       0         0            53   \n",
       "13               1                0       0         0            67   \n",
       "21               1                0       0         1            20   \n",
       "25               1                0       0         0            23   \n",
       "\n",
       "    vehicle_year  airbag_deployment  occupant_role  deployment  \n",
       "2         1995.0                  0              0           1  \n",
       "4         1995.0                  0              0           1  \n",
       "13        1991.0                  0              0           1  \n",
       "21        1995.0                  0              0           1  \n",
       "25        1995.0                  0              0           1  "
      ]
     },
     "execution_count": 47,
     "metadata": {},
     "output_type": "execute_result"
    }
   ],
   "source": [
    "le = LabelEncoder()\n",
    "\n",
    "crash_v6 = crash_v5.copy()\n",
    "crash_v6['est_impact_kmh'] = le.fit_transform(crash_v6['est_impact_kmh']) \n",
    "crash_v6['occupant_status'] = le.fit_transform(crash_v6['occupant_status'])\n",
    "crash_v6['airbag'] = le.fit_transform(crash_v6['airbag'])\n",
    "crash_v6['seatbelt'] = le.fit_transform(crash_v6['seatbelt'])\n",
    "crash_v6['airbag_deployment'] = le.fit_transform(crash_v6['airbag_deployment'])\n",
    "crash_v6['occupant_role'] = le.fit_transform(crash_v6['occupant_role'])\n",
    "\n",
    "crash_v6.head()"
   ]
  },
  {
   "cell_type": "code",
   "execution_count": 50,
   "metadata": {},
   "outputs": [],
   "source": [
    "# Separate the features (X) from the target (y):\n",
    "y = crash_v6['occupant_status']\n",
    "X = crash_v6.drop(columns='occupant_status')"
   ]
  },
  {
   "cell_type": "code",
   "execution_count": 53,
   "metadata": {},
   "outputs": [
    {
     "data": {
      "text/plain": [
       "(6656, 8)"
      ]
     },
     "execution_count": 53,
     "metadata": {},
     "output_type": "execute_result"
    }
   ],
   "source": [
    "# Split data into training & testing:\n",
    "X_train, X_test, y_train, y_test = train_test_split(X, y, random_state=1, stratify=y)\n",
    "X_train.shape"
   ]
  },
  {
   "cell_type": "markdown",
   "metadata": {},
   "source": [
    "# Split Data Into Training & Testing"
   ]
  },
  {
   "cell_type": "code",
   "execution_count": null,
   "metadata": {},
   "outputs": [],
   "source": [
    "# Create our features\n",
    "X = crash_v2.drop(columns='Occupant_Status')\n",
    "X = pd.get_dummies(X)\n",
    "\n",
    "# Create our target\n",
    "target = ['Occupant_Status']\n",
    "y = crash_v2.loc[:, target].copy()"
   ]
  },
  {
   "cell_type": "code",
   "execution_count": null,
   "metadata": {},
   "outputs": [],
   "source": [
    "X.describe()"
   ]
  },
  {
   "cell_type": "markdown",
   "metadata": {},
   "source": [
    "# Create a Logistic Regression Model"
   ]
  },
  {
   "cell_type": "code",
   "execution_count": 55,
   "metadata": {},
   "outputs": [],
   "source": [
    "classifier = LogisticRegression(solver='lbfgs',\n",
    "                                max_iter=200,\n",
    "                                random_state=1)"
   ]
  },
  {
   "cell_type": "code",
   "execution_count": 56,
   "metadata": {},
   "outputs": [
    {
     "data": {
      "text/plain": [
       "LogisticRegression(max_iter=200, random_state=1)"
      ]
     },
     "execution_count": 56,
     "metadata": {},
     "output_type": "execute_result"
    }
   ],
   "source": [
    "# Fit (train) or model using the training data:\n",
    "classifier.fit(X_train, y_train)"
   ]
  },
  {
   "cell_type": "code",
   "execution_count": 57,
   "metadata": {},
   "outputs": [
    {
     "data": {
      "text/plain": [
       "array([[-2.30735766e+00,  0.00000000e+00,  1.69406226e+00,\n",
       "         3.51742939e-02, -2.26593285e-03, -1.26189069e-01,\n",
       "         1.30697203e-01,  1.23702257e-01]])"
      ]
     },
     "execution_count": 57,
     "metadata": {},
     "output_type": "execute_result"
    }
   ],
   "source": [
    "classifier.coef_"
   ]
  },
  {
   "cell_type": "code",
   "execution_count": 58,
   "metadata": {},
   "outputs": [
    {
     "data": {
      "text/html": [
       "<div>\n",
       "<style scoped>\n",
       "    .dataframe tbody tr th:only-of-type {\n",
       "        vertical-align: middle;\n",
       "    }\n",
       "\n",
       "    .dataframe tbody tr th {\n",
       "        vertical-align: top;\n",
       "    }\n",
       "\n",
       "    .dataframe thead th {\n",
       "        text-align: right;\n",
       "    }\n",
       "</style>\n",
       "<table border=\"1\" class=\"dataframe\">\n",
       "  <thead>\n",
       "    <tr style=\"text-align: right;\">\n",
       "      <th></th>\n",
       "      <th>Prediction</th>\n",
       "      <th>Actual</th>\n",
       "    </tr>\n",
       "  </thead>\n",
       "  <tbody>\n",
       "    <tr>\n",
       "      <th>0</th>\n",
       "      <td>0</td>\n",
       "      <td>0</td>\n",
       "    </tr>\n",
       "    <tr>\n",
       "      <th>1</th>\n",
       "      <td>0</td>\n",
       "      <td>1</td>\n",
       "    </tr>\n",
       "    <tr>\n",
       "      <th>2</th>\n",
       "      <td>0</td>\n",
       "      <td>0</td>\n",
       "    </tr>\n",
       "    <tr>\n",
       "      <th>3</th>\n",
       "      <td>0</td>\n",
       "      <td>0</td>\n",
       "    </tr>\n",
       "    <tr>\n",
       "      <th>4</th>\n",
       "      <td>0</td>\n",
       "      <td>0</td>\n",
       "    </tr>\n",
       "    <tr>\n",
       "      <th>5</th>\n",
       "      <td>0</td>\n",
       "      <td>0</td>\n",
       "    </tr>\n",
       "    <tr>\n",
       "      <th>6</th>\n",
       "      <td>0</td>\n",
       "      <td>0</td>\n",
       "    </tr>\n",
       "    <tr>\n",
       "      <th>7</th>\n",
       "      <td>0</td>\n",
       "      <td>0</td>\n",
       "    </tr>\n",
       "    <tr>\n",
       "      <th>8</th>\n",
       "      <td>0</td>\n",
       "      <td>0</td>\n",
       "    </tr>\n",
       "    <tr>\n",
       "      <th>9</th>\n",
       "      <td>0</td>\n",
       "      <td>0</td>\n",
       "    </tr>\n",
       "    <tr>\n",
       "      <th>10</th>\n",
       "      <td>0</td>\n",
       "      <td>0</td>\n",
       "    </tr>\n",
       "    <tr>\n",
       "      <th>11</th>\n",
       "      <td>0</td>\n",
       "      <td>0</td>\n",
       "    </tr>\n",
       "    <tr>\n",
       "      <th>12</th>\n",
       "      <td>0</td>\n",
       "      <td>0</td>\n",
       "    </tr>\n",
       "    <tr>\n",
       "      <th>13</th>\n",
       "      <td>0</td>\n",
       "      <td>0</td>\n",
       "    </tr>\n",
       "    <tr>\n",
       "      <th>14</th>\n",
       "      <td>0</td>\n",
       "      <td>0</td>\n",
       "    </tr>\n",
       "    <tr>\n",
       "      <th>15</th>\n",
       "      <td>0</td>\n",
       "      <td>0</td>\n",
       "    </tr>\n",
       "    <tr>\n",
       "      <th>16</th>\n",
       "      <td>0</td>\n",
       "      <td>1</td>\n",
       "    </tr>\n",
       "    <tr>\n",
       "      <th>17</th>\n",
       "      <td>0</td>\n",
       "      <td>0</td>\n",
       "    </tr>\n",
       "    <tr>\n",
       "      <th>18</th>\n",
       "      <td>0</td>\n",
       "      <td>0</td>\n",
       "    </tr>\n",
       "    <tr>\n",
       "      <th>19</th>\n",
       "      <td>0</td>\n",
       "      <td>0</td>\n",
       "    </tr>\n",
       "  </tbody>\n",
       "</table>\n",
       "</div>"
      ],
      "text/plain": [
       "    Prediction  Actual\n",
       "0            0       0\n",
       "1            0       1\n",
       "2            0       0\n",
       "3            0       0\n",
       "4            0       0\n",
       "5            0       0\n",
       "6            0       0\n",
       "7            0       0\n",
       "8            0       0\n",
       "9            0       0\n",
       "10           0       0\n",
       "11           0       0\n",
       "12           0       0\n",
       "13           0       0\n",
       "14           0       0\n",
       "15           0       0\n",
       "16           0       1\n",
       "17           0       0\n",
       "18           0       0\n",
       "19           0       0"
      ]
     },
     "execution_count": 58,
     "metadata": {},
     "output_type": "execute_result"
    }
   ],
   "source": [
    "# Make predictions:\n",
    "y_pred = classifier.predict(X_test)\n",
    "results = pd.DataFrame({\"Prediction\": y_pred, \"Actual\": y_test}).reset_index(drop=True)\n",
    "results.head(20)"
   ]
  },
  {
   "cell_type": "code",
   "execution_count": 60,
   "metadata": {},
   "outputs": [
    {
     "name": "stdout",
     "output_type": "stream",
     "text": [
      "0.9765660207300586\n"
     ]
    }
   ],
   "source": [
    "# Determine prediction accuracy:\n",
    "print(accuracy_score(y_test, y_pred))"
   ]
  }
 ],
 "metadata": {
  "kernelspec": {
   "display_name": "Python 3",
   "language": "python",
   "name": "python3"
  },
  "language_info": {
   "codemirror_mode": {
    "name": "ipython",
    "version": 3
   },
   "file_extension": ".py",
   "mimetype": "text/x-python",
   "name": "python",
   "nbconvert_exporter": "python",
   "pygments_lexer": "ipython3",
   "version": "3.7.7"
  }
 },
 "nbformat": 4,
 "nbformat_minor": 4
}
